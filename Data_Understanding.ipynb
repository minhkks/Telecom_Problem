{
  "nbformat": 4,
  "nbformat_minor": 0,
  "metadata": {
    "colab": {
      "provenance": [],
      "collapsed_sections": [
        "uYNNTDxy36mO"
      ]
    },
    "kernelspec": {
      "name": "python3",
      "display_name": "Python 3"
    },
    "language_info": {
      "name": "python"
    }
  },
  "cells": [
    {
      "cell_type": "markdown",
      "source": [
        "**Data Understanding and Tree - based Method**"
      ],
      "metadata": {
        "id": "m8SmVjquzcny"
      }
    },
    {
      "cell_type": "markdown",
      "source": [
        "# HIỂU DỮ LIỆU\n",
        "Mô tả tập dữ liệu sử dụng:\n",
        "Tập dữ liệu chứa thông tin về tất cả 7.043 khách hàng từ một công ty Viễn thông ở California trong quý 2 năm 2022. Mỗi bản ghi đại diện cho một khách hàng và chứa thông tin chi tiết về nhân khẩu học, vị trí, thời hạn sử dụng, dịch vụ đăng ký, trạng thái của quý (đã tham gia, ở lại hoặc rời dịch vụ).\n",
        "\n",
        "Các trường thông tin bao gồm:\n",
        "\n",
        "\n",
        "* Customer ID: Một ID duy nhất xác định từng khách hàng\n",
        "* Gender: Giới tính của khách hàng\n",
        "* Age: Tuổi\n",
        "* Married: Tình trạng hôn nhân\n",
        "* Number of Dependents: Số lượng phụ thuộc\n",
        "* City: Thành phố nơi sống\n",
        "* Zip Code: Mã bưu điệnđiện\n",
        "* Latitude: Vĩ độ của nơi cư trú chính của khách hàng\n",
        "* Longitude: Kinh độ của nơi cư trú chính của khách hàng\n",
        "* Number of Referrals: SSố lần khách hàng đã giới thiệu bạn bè hoặc thành viên gia đình đến công ty này cho đến nay\n",
        "* Tenure in Months: Cho biết tổng số tháng mà khách hàng đã làm việc với công ty\n",
        "* Offer: Xác định ưu đãi tiếp thị cuối cùng mà khách hàng chấp nhận\n",
        "* Phone Service: Cho biết khách hàng có đăng ký dịch vụ điện thoại tại nhà với công ty hay không: Có, Không.\n",
        "* Avg Monthly Long Distance Charges: Cho biết phí đường dài trung bình của khách hàng, được tính đến cuối quý.\n",
        "* Multiple Lines: Cho biết nếu khách hàng đăng ký nhiều đường dây điện thoại với công ty: Có, Không.\n",
        "* Internet Service: Indicates if the customer subscribes to Internet service with the company: Yes, No\n",
        "* Internet Type: Cho biết loại kết nối internet của khách hàng: DSL, Cáp quang, Cáp.\n",
        "* Avg Monthly GB Download: Cho biết khối lượng tải xuống trung bình của khách hàng tính bằng gigabyte, được tính đến cuối quý\n",
        "* Online Security: Indicates if the customer subscribes to an additional online security service provided by the company: Yes, No.\n",
        "* Online Backup: Cho biết liệu khách hàng có đăng ký dịch vụ sao lưu trực tuyến bổ sung do công ty cung cấp hay không: Có, Không\n",
        "* Device Protection Plan: Cho biết liệu khách hàng có đăng ký gói bảo vệ thiết bị bổ sung cho thiết bị Internet của họ do com cung cấp hay không.\n",
        "* Premium Tech Support: Cho biết nếu khách hàng đăng ký gói hỗ trợ kỹ thuật bổ sung từ công ty.\n",
        "* Streaming TV: Cho biết liệu khách hàng có sử dụng dịch vụ Internet của họ để truyền phát chương trình truyền hình từ nhà cung cấp bên thứ ba hay không.\n",
        "* Streaming Movies: Cho biết liệu khách hàng có sử dụng dịch vụ Internet của họ để phát trực tuyến phim từ nhà cung cấp bên thứ ba mà không phải trả thêm phí hay không: Có, Không.\n",
        "* Streaming Music: Cho biết liệu khách hàng có sử dụng dịch vụ Internet của họ để truyền phát nhạc từ nhà cung cấp bên thứ ba mà không mất thêm phí hay không: Có, Không.\n",
        "* Unlimited Data: Cho biết liệu khách hàng có trả thêm phí hàng tháng để tải xuống / tải lên dữ liệu không giới hạn hay không\n",
        "* Contract:Cho biết loại hợp đồng hiện tại của khách hàng: Hàng tháng, Một năm, Hai năm.\n",
        "* Paperless Billing:Cho biết nếu khách hàng đã chọn thanh toán không cần hóa đơnđơn: Có, Không\n",
        "* Payment Method: Cho biết cách khách hàng thanh toán hóa đơn của họ.\n",
        "* Monthly Charge: Cho biết tổng phí hàng tháng hiện tại của khách hàng cho tất cả các dịch vụ của họ từ công ty.\n",
        "* Total Charges: Cho biết tổng các khoản phí của khách hàng, được tính đến cuối quý đã nêu ở trên.\n",
        "* Total Refunds: Cho biết tổng số tiền hoàn lại của khách hàng, được tính đến cuối quý được chỉ định ở trên\n",
        "* Total Extra Data CCharges Cho biết tổng số phí của khách hàng cho các lần tải xuống dữ liệu bổ sung cao hơn những khoản được chỉ định trong gói của họ.\n",
        "* Total Long Distance Charges: Cho biết tổng các khoản phí của khách hàng cho quãng đường dài cao hơn những khoản phí được chỉ định trong gói của họ\n",
        "* Total Revenue: Cho biết tổng doanh thu của công ty từ khách hàng này, được tính đến cuối quý đã nêu ở trên\n",
        "* Customer Status: Cho biết trạng thái của khách hàng vào cuối quý (Churned, Stayed, or Joined)\n",
        "* Churn Category: Một danh mục cho trướctrước lý do khách hàng rời bỏ dịch vụ\n",
        "* Churn Reason: Lý do cụ thể của khách hàng để rời khỏi công ty, được hỏi khi họ rời công ty.\n",
        "\n",
        "\n",
        "\n",
        "\n",
        "\n",
        "\n",
        "\n",
        "\n"
      ],
      "metadata": {
        "id": "Nn-722DSzloY"
      }
    },
    {
      "cell_type": "markdown",
      "source": [
        "**Bài toán dự đoán khách hành dời dịch vụ. Đầu vào đầu ra của mô hình**:\n",
        "\n",
        "*   **Input**: các thuộc tính nhà mạng đã cung cấp\n",
        "*   **Output**: khả năng dời dịch vụ của khách hàng"
      ],
      "metadata": {
        "id": "0v3wZ1Bfhujt"
      }
    },
    {
      "cell_type": "code",
      "source": [
        "from google.colab import drive\n",
        "drive.mount('/content/drive')"
      ],
      "metadata": {
        "colab": {
          "base_uri": "https://localhost:8080/"
        },
        "id": "9oiGS8O9wyXT",
        "outputId": "fa03a656-76d0-4bcc-991b-9631ecc3458c"
      },
      "execution_count": null,
      "outputs": [
        {
          "output_type": "stream",
          "name": "stdout",
          "text": [
            "Mounted at /content/drive\n"
          ]
        }
      ]
    },
    {
      "cell_type": "code",
      "execution_count": null,
      "metadata": {
        "id": "hek5T1O0fIhS"
      },
      "outputs": [],
      "source": [
        "import pandas as pd\n",
        "import numpy as np\n",
        "import seaborn as sns\n",
        "import matplotlib.pyplot as plt\n",
        "from sklearn.preprocessing import StandardScaler, OneHotEncoder, MinMaxScaler"
      ]
    },
    {
      "cell_type": "markdown",
      "source": [
        "#EDA"
      ],
      "metadata": {
        "id": "uYNNTDxy36mO"
      }
    },
    {
      "cell_type": "markdown",
      "source": [
        "## Tương quan features với features"
      ],
      "metadata": {
        "id": "TGbZQDjpCVu2"
      }
    },
    {
      "cell_type": "code",
      "source": [
        "data = pd.read_csv('/content/drive/MyDrive/Data/Telecom Problem/telecom_customer_churn.csv')\n",
        "data.head(5)"
      ],
      "metadata": {
        "colab": {
          "base_uri": "https://localhost:8080/",
          "height": 455
        },
        "id": "muVqNYPrgYSX",
        "outputId": "3a79c502-2f94-4954-9486-baf3d47a5733"
      },
      "execution_count": null,
      "outputs": [
        {
          "output_type": "execute_result",
          "data": {
            "text/plain": [
              "  Customer ID  Gender  Age Married  Number of Dependents          City  \\\n",
              "0  0002-ORFBO  Female   37     Yes                     0  Frazier Park   \n",
              "1  0003-MKNFE    Male   46      No                     0      Glendale   \n",
              "2  0004-TLHLJ    Male   50      No                     0    Costa Mesa   \n",
              "3  0011-IGKFF    Male   78     Yes                     0      Martinez   \n",
              "4  0013-EXCHZ  Female   75     Yes                     0     Camarillo   \n",
              "\n",
              "   Zip Code   Latitude   Longitude  Number of Referrals  ...   Payment Method  \\\n",
              "0     93225  34.827662 -118.999073                    2  ...      Credit Card   \n",
              "1     91206  34.162515 -118.203869                    0  ...      Credit Card   \n",
              "2     92627  33.645672 -117.922613                    0  ...  Bank Withdrawal   \n",
              "3     94553  38.014457 -122.115432                    1  ...  Bank Withdrawal   \n",
              "4     93010  34.227846 -119.079903                    3  ...      Credit Card   \n",
              "\n",
              "  Monthly Charge Total Charges  Total Refunds Total Extra Data Charges  \\\n",
              "0           65.6        593.30           0.00                        0   \n",
              "1           -4.0        542.40          38.33                       10   \n",
              "2           73.9        280.85           0.00                        0   \n",
              "3           98.0       1237.85           0.00                        0   \n",
              "4           83.9        267.40           0.00                        0   \n",
              "\n",
              "  Total Long Distance Charges Total Revenue  Customer Status   Churn Category  \\\n",
              "0                      381.51        974.81           Stayed              NaN   \n",
              "1                       96.21        610.28           Stayed              NaN   \n",
              "2                      134.60        415.45          Churned       Competitor   \n",
              "3                      361.66       1599.51          Churned  Dissatisfaction   \n",
              "4                       22.14        289.54          Churned  Dissatisfaction   \n",
              "\n",
              "                    Churn Reason  \n",
              "0                            NaN  \n",
              "1                            NaN  \n",
              "2  Competitor had better devices  \n",
              "3        Product dissatisfaction  \n",
              "4            Network reliability  \n",
              "\n",
              "[5 rows x 38 columns]"
            ],
            "text/html": [
              "\n",
              "  <div id=\"df-3348991e-a303-4b6c-a485-0f3f4f89d201\">\n",
              "    <div class=\"colab-df-container\">\n",
              "      <div>\n",
              "<style scoped>\n",
              "    .dataframe tbody tr th:only-of-type {\n",
              "        vertical-align: middle;\n",
              "    }\n",
              "\n",
              "    .dataframe tbody tr th {\n",
              "        vertical-align: top;\n",
              "    }\n",
              "\n",
              "    .dataframe thead th {\n",
              "        text-align: right;\n",
              "    }\n",
              "</style>\n",
              "<table border=\"1\" class=\"dataframe\">\n",
              "  <thead>\n",
              "    <tr style=\"text-align: right;\">\n",
              "      <th></th>\n",
              "      <th>Customer ID</th>\n",
              "      <th>Gender</th>\n",
              "      <th>Age</th>\n",
              "      <th>Married</th>\n",
              "      <th>Number of Dependents</th>\n",
              "      <th>City</th>\n",
              "      <th>Zip Code</th>\n",
              "      <th>Latitude</th>\n",
              "      <th>Longitude</th>\n",
              "      <th>Number of Referrals</th>\n",
              "      <th>...</th>\n",
              "      <th>Payment Method</th>\n",
              "      <th>Monthly Charge</th>\n",
              "      <th>Total Charges</th>\n",
              "      <th>Total Refunds</th>\n",
              "      <th>Total Extra Data Charges</th>\n",
              "      <th>Total Long Distance Charges</th>\n",
              "      <th>Total Revenue</th>\n",
              "      <th>Customer Status</th>\n",
              "      <th>Churn Category</th>\n",
              "      <th>Churn Reason</th>\n",
              "    </tr>\n",
              "  </thead>\n",
              "  <tbody>\n",
              "    <tr>\n",
              "      <th>0</th>\n",
              "      <td>0002-ORFBO</td>\n",
              "      <td>Female</td>\n",
              "      <td>37</td>\n",
              "      <td>Yes</td>\n",
              "      <td>0</td>\n",
              "      <td>Frazier Park</td>\n",
              "      <td>93225</td>\n",
              "      <td>34.827662</td>\n",
              "      <td>-118.999073</td>\n",
              "      <td>2</td>\n",
              "      <td>...</td>\n",
              "      <td>Credit Card</td>\n",
              "      <td>65.6</td>\n",
              "      <td>593.30</td>\n",
              "      <td>0.00</td>\n",
              "      <td>0</td>\n",
              "      <td>381.51</td>\n",
              "      <td>974.81</td>\n",
              "      <td>Stayed</td>\n",
              "      <td>NaN</td>\n",
              "      <td>NaN</td>\n",
              "    </tr>\n",
              "    <tr>\n",
              "      <th>1</th>\n",
              "      <td>0003-MKNFE</td>\n",
              "      <td>Male</td>\n",
              "      <td>46</td>\n",
              "      <td>No</td>\n",
              "      <td>0</td>\n",
              "      <td>Glendale</td>\n",
              "      <td>91206</td>\n",
              "      <td>34.162515</td>\n",
              "      <td>-118.203869</td>\n",
              "      <td>0</td>\n",
              "      <td>...</td>\n",
              "      <td>Credit Card</td>\n",
              "      <td>-4.0</td>\n",
              "      <td>542.40</td>\n",
              "      <td>38.33</td>\n",
              "      <td>10</td>\n",
              "      <td>96.21</td>\n",
              "      <td>610.28</td>\n",
              "      <td>Stayed</td>\n",
              "      <td>NaN</td>\n",
              "      <td>NaN</td>\n",
              "    </tr>\n",
              "    <tr>\n",
              "      <th>2</th>\n",
              "      <td>0004-TLHLJ</td>\n",
              "      <td>Male</td>\n",
              "      <td>50</td>\n",
              "      <td>No</td>\n",
              "      <td>0</td>\n",
              "      <td>Costa Mesa</td>\n",
              "      <td>92627</td>\n",
              "      <td>33.645672</td>\n",
              "      <td>-117.922613</td>\n",
              "      <td>0</td>\n",
              "      <td>...</td>\n",
              "      <td>Bank Withdrawal</td>\n",
              "      <td>73.9</td>\n",
              "      <td>280.85</td>\n",
              "      <td>0.00</td>\n",
              "      <td>0</td>\n",
              "      <td>134.60</td>\n",
              "      <td>415.45</td>\n",
              "      <td>Churned</td>\n",
              "      <td>Competitor</td>\n",
              "      <td>Competitor had better devices</td>\n",
              "    </tr>\n",
              "    <tr>\n",
              "      <th>3</th>\n",
              "      <td>0011-IGKFF</td>\n",
              "      <td>Male</td>\n",
              "      <td>78</td>\n",
              "      <td>Yes</td>\n",
              "      <td>0</td>\n",
              "      <td>Martinez</td>\n",
              "      <td>94553</td>\n",
              "      <td>38.014457</td>\n",
              "      <td>-122.115432</td>\n",
              "      <td>1</td>\n",
              "      <td>...</td>\n",
              "      <td>Bank Withdrawal</td>\n",
              "      <td>98.0</td>\n",
              "      <td>1237.85</td>\n",
              "      <td>0.00</td>\n",
              "      <td>0</td>\n",
              "      <td>361.66</td>\n",
              "      <td>1599.51</td>\n",
              "      <td>Churned</td>\n",
              "      <td>Dissatisfaction</td>\n",
              "      <td>Product dissatisfaction</td>\n",
              "    </tr>\n",
              "    <tr>\n",
              "      <th>4</th>\n",
              "      <td>0013-EXCHZ</td>\n",
              "      <td>Female</td>\n",
              "      <td>75</td>\n",
              "      <td>Yes</td>\n",
              "      <td>0</td>\n",
              "      <td>Camarillo</td>\n",
              "      <td>93010</td>\n",
              "      <td>34.227846</td>\n",
              "      <td>-119.079903</td>\n",
              "      <td>3</td>\n",
              "      <td>...</td>\n",
              "      <td>Credit Card</td>\n",
              "      <td>83.9</td>\n",
              "      <td>267.40</td>\n",
              "      <td>0.00</td>\n",
              "      <td>0</td>\n",
              "      <td>22.14</td>\n",
              "      <td>289.54</td>\n",
              "      <td>Churned</td>\n",
              "      <td>Dissatisfaction</td>\n",
              "      <td>Network reliability</td>\n",
              "    </tr>\n",
              "  </tbody>\n",
              "</table>\n",
              "<p>5 rows × 38 columns</p>\n",
              "</div>\n",
              "      <button class=\"colab-df-convert\" onclick=\"convertToInteractive('df-3348991e-a303-4b6c-a485-0f3f4f89d201')\"\n",
              "              title=\"Convert this dataframe to an interactive table.\"\n",
              "              style=\"display:none;\">\n",
              "        \n",
              "  <svg xmlns=\"http://www.w3.org/2000/svg\" height=\"24px\"viewBox=\"0 0 24 24\"\n",
              "       width=\"24px\">\n",
              "    <path d=\"M0 0h24v24H0V0z\" fill=\"none\"/>\n",
              "    <path d=\"M18.56 5.44l.94 2.06.94-2.06 2.06-.94-2.06-.94-.94-2.06-.94 2.06-2.06.94zm-11 1L8.5 8.5l.94-2.06 2.06-.94-2.06-.94L8.5 2.5l-.94 2.06-2.06.94zm10 10l.94 2.06.94-2.06 2.06-.94-2.06-.94-.94-2.06-.94 2.06-2.06.94z\"/><path d=\"M17.41 7.96l-1.37-1.37c-.4-.4-.92-.59-1.43-.59-.52 0-1.04.2-1.43.59L10.3 9.45l-7.72 7.72c-.78.78-.78 2.05 0 2.83L4 21.41c.39.39.9.59 1.41.59.51 0 1.02-.2 1.41-.59l7.78-7.78 2.81-2.81c.8-.78.8-2.07 0-2.86zM5.41 20L4 18.59l7.72-7.72 1.47 1.35L5.41 20z\"/>\n",
              "  </svg>\n",
              "      </button>\n",
              "      \n",
              "  <style>\n",
              "    .colab-df-container {\n",
              "      display:flex;\n",
              "      flex-wrap:wrap;\n",
              "      gap: 12px;\n",
              "    }\n",
              "\n",
              "    .colab-df-convert {\n",
              "      background-color: #E8F0FE;\n",
              "      border: none;\n",
              "      border-radius: 50%;\n",
              "      cursor: pointer;\n",
              "      display: none;\n",
              "      fill: #1967D2;\n",
              "      height: 32px;\n",
              "      padding: 0 0 0 0;\n",
              "      width: 32px;\n",
              "    }\n",
              "\n",
              "    .colab-df-convert:hover {\n",
              "      background-color: #E2EBFA;\n",
              "      box-shadow: 0px 1px 2px rgba(60, 64, 67, 0.3), 0px 1px 3px 1px rgba(60, 64, 67, 0.15);\n",
              "      fill: #174EA6;\n",
              "    }\n",
              "\n",
              "    [theme=dark] .colab-df-convert {\n",
              "      background-color: #3B4455;\n",
              "      fill: #D2E3FC;\n",
              "    }\n",
              "\n",
              "    [theme=dark] .colab-df-convert:hover {\n",
              "      background-color: #434B5C;\n",
              "      box-shadow: 0px 1px 3px 1px rgba(0, 0, 0, 0.15);\n",
              "      filter: drop-shadow(0px 1px 2px rgba(0, 0, 0, 0.3));\n",
              "      fill: #FFFFFF;\n",
              "    }\n",
              "  </style>\n",
              "\n",
              "      <script>\n",
              "        const buttonEl =\n",
              "          document.querySelector('#df-3348991e-a303-4b6c-a485-0f3f4f89d201 button.colab-df-convert');\n",
              "        buttonEl.style.display =\n",
              "          google.colab.kernel.accessAllowed ? 'block' : 'none';\n",
              "\n",
              "        async function convertToInteractive(key) {\n",
              "          const element = document.querySelector('#df-3348991e-a303-4b6c-a485-0f3f4f89d201');\n",
              "          const dataTable =\n",
              "            await google.colab.kernel.invokeFunction('convertToInteractive',\n",
              "                                                     [key], {});\n",
              "          if (!dataTable) return;\n",
              "\n",
              "          const docLinkHtml = 'Like what you see? Visit the ' +\n",
              "            '<a target=\"_blank\" href=https://colab.research.google.com/notebooks/data_table.ipynb>data table notebook</a>'\n",
              "            + ' to learn more about interactive tables.';\n",
              "          element.innerHTML = '';\n",
              "          dataTable['output_type'] = 'display_data';\n",
              "          await google.colab.output.renderOutput(dataTable, element);\n",
              "          const docLink = document.createElement('div');\n",
              "          docLink.innerHTML = docLinkHtml;\n",
              "          element.appendChild(docLink);\n",
              "        }\n",
              "      </script>\n",
              "    </div>\n",
              "  </div>\n",
              "  "
            ]
          },
          "metadata": {},
          "execution_count": 3
        }
      ]
    },
    {
      "cell_type": "code",
      "source": [
        "data.shape"
      ],
      "metadata": {
        "colab": {
          "base_uri": "https://localhost:8080/"
        },
        "id": "axhirPYG9jWl",
        "outputId": "8afcf25f-6ff6-480b-854b-adc143c6ebd4"
      },
      "execution_count": null,
      "outputs": [
        {
          "output_type": "execute_result",
          "data": {
            "text/plain": [
              "(7043, 38)"
            ]
          },
          "metadata": {},
          "execution_count": 4
        }
      ]
    },
    {
      "cell_type": "code",
      "source": [
        "data.describe()"
      ],
      "metadata": {
        "colab": {
          "base_uri": "https://localhost:8080/",
          "height": 433
        },
        "id": "dN8R3tr54evR",
        "outputId": "8ca4c32d-4a60-4da5-97d3-8df25f6fbc1b"
      },
      "execution_count": null,
      "outputs": [
        {
          "output_type": "execute_result",
          "data": {
            "text/plain": [
              "               Age  Number of Dependents      Zip Code     Latitude  \\\n",
              "count  7043.000000           7043.000000   7043.000000  7043.000000   \n",
              "mean     46.509726              0.468692  93486.070567    36.197455   \n",
              "std      16.750352              0.962802   1856.767505     2.468929   \n",
              "min      19.000000              0.000000  90001.000000    32.555828   \n",
              "25%      32.000000              0.000000  92101.000000    33.990646   \n",
              "50%      46.000000              0.000000  93518.000000    36.205465   \n",
              "75%      60.000000              0.000000  95329.000000    38.161321   \n",
              "max      80.000000              9.000000  96150.000000    41.962127   \n",
              "\n",
              "         Longitude  Number of Referrals  Tenure in Months  \\\n",
              "count  7043.000000          7043.000000       7043.000000   \n",
              "mean   -119.756684             1.951867         32.386767   \n",
              "std       2.154425             3.001199         24.542061   \n",
              "min    -124.301372             0.000000          1.000000   \n",
              "25%    -121.788090             0.000000          9.000000   \n",
              "50%    -119.595293             0.000000         29.000000   \n",
              "75%    -117.969795             3.000000         55.000000   \n",
              "max    -114.192901            11.000000         72.000000   \n",
              "\n",
              "       Avg Monthly Long Distance Charges  Avg Monthly GB Download  \\\n",
              "count                        6361.000000              5517.000000   \n",
              "mean                           25.420517                26.189958   \n",
              "std                            14.200374                19.586585   \n",
              "min                             1.010000                 2.000000   \n",
              "25%                            13.050000                13.000000   \n",
              "50%                            25.690000                21.000000   \n",
              "75%                            37.680000                30.000000   \n",
              "max                            49.990000                85.000000   \n",
              "\n",
              "       Monthly Charge  Total Charges  Total Refunds  Total Extra Data Charges  \\\n",
              "count     7043.000000    7043.000000    7043.000000               7043.000000   \n",
              "mean        63.596131    2280.381264       1.962182                  6.860713   \n",
              "std         31.204743    2266.220462       7.902614                 25.104978   \n",
              "min        -10.000000      18.800000       0.000000                  0.000000   \n",
              "25%         30.400000     400.150000       0.000000                  0.000000   \n",
              "50%         70.050000    1394.550000       0.000000                  0.000000   \n",
              "75%         89.750000    3786.600000       0.000000                  0.000000   \n",
              "max        118.750000    8684.800000      49.790000                150.000000   \n",
              "\n",
              "       Total Long Distance Charges  Total Revenue  \n",
              "count                  7043.000000    7043.000000  \n",
              "mean                    749.099262    3034.379056  \n",
              "std                     846.660055    2865.204542  \n",
              "min                       0.000000      21.360000  \n",
              "25%                      70.545000     605.610000  \n",
              "50%                     401.440000    2108.640000  \n",
              "75%                    1191.100000    4801.145000  \n",
              "max                    3564.720000   11979.340000  "
            ],
            "text/html": [
              "\n",
              "  <div id=\"df-16531b10-4fee-4084-b9b5-d227970fab3a\">\n",
              "    <div class=\"colab-df-container\">\n",
              "      <div>\n",
              "<style scoped>\n",
              "    .dataframe tbody tr th:only-of-type {\n",
              "        vertical-align: middle;\n",
              "    }\n",
              "\n",
              "    .dataframe tbody tr th {\n",
              "        vertical-align: top;\n",
              "    }\n",
              "\n",
              "    .dataframe thead th {\n",
              "        text-align: right;\n",
              "    }\n",
              "</style>\n",
              "<table border=\"1\" class=\"dataframe\">\n",
              "  <thead>\n",
              "    <tr style=\"text-align: right;\">\n",
              "      <th></th>\n",
              "      <th>Age</th>\n",
              "      <th>Number of Dependents</th>\n",
              "      <th>Zip Code</th>\n",
              "      <th>Latitude</th>\n",
              "      <th>Longitude</th>\n",
              "      <th>Number of Referrals</th>\n",
              "      <th>Tenure in Months</th>\n",
              "      <th>Avg Monthly Long Distance Charges</th>\n",
              "      <th>Avg Monthly GB Download</th>\n",
              "      <th>Monthly Charge</th>\n",
              "      <th>Total Charges</th>\n",
              "      <th>Total Refunds</th>\n",
              "      <th>Total Extra Data Charges</th>\n",
              "      <th>Total Long Distance Charges</th>\n",
              "      <th>Total Revenue</th>\n",
              "    </tr>\n",
              "  </thead>\n",
              "  <tbody>\n",
              "    <tr>\n",
              "      <th>count</th>\n",
              "      <td>7043.000000</td>\n",
              "      <td>7043.000000</td>\n",
              "      <td>7043.000000</td>\n",
              "      <td>7043.000000</td>\n",
              "      <td>7043.000000</td>\n",
              "      <td>7043.000000</td>\n",
              "      <td>7043.000000</td>\n",
              "      <td>6361.000000</td>\n",
              "      <td>5517.000000</td>\n",
              "      <td>7043.000000</td>\n",
              "      <td>7043.000000</td>\n",
              "      <td>7043.000000</td>\n",
              "      <td>7043.000000</td>\n",
              "      <td>7043.000000</td>\n",
              "      <td>7043.000000</td>\n",
              "    </tr>\n",
              "    <tr>\n",
              "      <th>mean</th>\n",
              "      <td>46.509726</td>\n",
              "      <td>0.468692</td>\n",
              "      <td>93486.070567</td>\n",
              "      <td>36.197455</td>\n",
              "      <td>-119.756684</td>\n",
              "      <td>1.951867</td>\n",
              "      <td>32.386767</td>\n",
              "      <td>25.420517</td>\n",
              "      <td>26.189958</td>\n",
              "      <td>63.596131</td>\n",
              "      <td>2280.381264</td>\n",
              "      <td>1.962182</td>\n",
              "      <td>6.860713</td>\n",
              "      <td>749.099262</td>\n",
              "      <td>3034.379056</td>\n",
              "    </tr>\n",
              "    <tr>\n",
              "      <th>std</th>\n",
              "      <td>16.750352</td>\n",
              "      <td>0.962802</td>\n",
              "      <td>1856.767505</td>\n",
              "      <td>2.468929</td>\n",
              "      <td>2.154425</td>\n",
              "      <td>3.001199</td>\n",
              "      <td>24.542061</td>\n",
              "      <td>14.200374</td>\n",
              "      <td>19.586585</td>\n",
              "      <td>31.204743</td>\n",
              "      <td>2266.220462</td>\n",
              "      <td>7.902614</td>\n",
              "      <td>25.104978</td>\n",
              "      <td>846.660055</td>\n",
              "      <td>2865.204542</td>\n",
              "    </tr>\n",
              "    <tr>\n",
              "      <th>min</th>\n",
              "      <td>19.000000</td>\n",
              "      <td>0.000000</td>\n",
              "      <td>90001.000000</td>\n",
              "      <td>32.555828</td>\n",
              "      <td>-124.301372</td>\n",
              "      <td>0.000000</td>\n",
              "      <td>1.000000</td>\n",
              "      <td>1.010000</td>\n",
              "      <td>2.000000</td>\n",
              "      <td>-10.000000</td>\n",
              "      <td>18.800000</td>\n",
              "      <td>0.000000</td>\n",
              "      <td>0.000000</td>\n",
              "      <td>0.000000</td>\n",
              "      <td>21.360000</td>\n",
              "    </tr>\n",
              "    <tr>\n",
              "      <th>25%</th>\n",
              "      <td>32.000000</td>\n",
              "      <td>0.000000</td>\n",
              "      <td>92101.000000</td>\n",
              "      <td>33.990646</td>\n",
              "      <td>-121.788090</td>\n",
              "      <td>0.000000</td>\n",
              "      <td>9.000000</td>\n",
              "      <td>13.050000</td>\n",
              "      <td>13.000000</td>\n",
              "      <td>30.400000</td>\n",
              "      <td>400.150000</td>\n",
              "      <td>0.000000</td>\n",
              "      <td>0.000000</td>\n",
              "      <td>70.545000</td>\n",
              "      <td>605.610000</td>\n",
              "    </tr>\n",
              "    <tr>\n",
              "      <th>50%</th>\n",
              "      <td>46.000000</td>\n",
              "      <td>0.000000</td>\n",
              "      <td>93518.000000</td>\n",
              "      <td>36.205465</td>\n",
              "      <td>-119.595293</td>\n",
              "      <td>0.000000</td>\n",
              "      <td>29.000000</td>\n",
              "      <td>25.690000</td>\n",
              "      <td>21.000000</td>\n",
              "      <td>70.050000</td>\n",
              "      <td>1394.550000</td>\n",
              "      <td>0.000000</td>\n",
              "      <td>0.000000</td>\n",
              "      <td>401.440000</td>\n",
              "      <td>2108.640000</td>\n",
              "    </tr>\n",
              "    <tr>\n",
              "      <th>75%</th>\n",
              "      <td>60.000000</td>\n",
              "      <td>0.000000</td>\n",
              "      <td>95329.000000</td>\n",
              "      <td>38.161321</td>\n",
              "      <td>-117.969795</td>\n",
              "      <td>3.000000</td>\n",
              "      <td>55.000000</td>\n",
              "      <td>37.680000</td>\n",
              "      <td>30.000000</td>\n",
              "      <td>89.750000</td>\n",
              "      <td>3786.600000</td>\n",
              "      <td>0.000000</td>\n",
              "      <td>0.000000</td>\n",
              "      <td>1191.100000</td>\n",
              "      <td>4801.145000</td>\n",
              "    </tr>\n",
              "    <tr>\n",
              "      <th>max</th>\n",
              "      <td>80.000000</td>\n",
              "      <td>9.000000</td>\n",
              "      <td>96150.000000</td>\n",
              "      <td>41.962127</td>\n",
              "      <td>-114.192901</td>\n",
              "      <td>11.000000</td>\n",
              "      <td>72.000000</td>\n",
              "      <td>49.990000</td>\n",
              "      <td>85.000000</td>\n",
              "      <td>118.750000</td>\n",
              "      <td>8684.800000</td>\n",
              "      <td>49.790000</td>\n",
              "      <td>150.000000</td>\n",
              "      <td>3564.720000</td>\n",
              "      <td>11979.340000</td>\n",
              "    </tr>\n",
              "  </tbody>\n",
              "</table>\n",
              "</div>\n",
              "      <button class=\"colab-df-convert\" onclick=\"convertToInteractive('df-16531b10-4fee-4084-b9b5-d227970fab3a')\"\n",
              "              title=\"Convert this dataframe to an interactive table.\"\n",
              "              style=\"display:none;\">\n",
              "        \n",
              "  <svg xmlns=\"http://www.w3.org/2000/svg\" height=\"24px\"viewBox=\"0 0 24 24\"\n",
              "       width=\"24px\">\n",
              "    <path d=\"M0 0h24v24H0V0z\" fill=\"none\"/>\n",
              "    <path d=\"M18.56 5.44l.94 2.06.94-2.06 2.06-.94-2.06-.94-.94-2.06-.94 2.06-2.06.94zm-11 1L8.5 8.5l.94-2.06 2.06-.94-2.06-.94L8.5 2.5l-.94 2.06-2.06.94zm10 10l.94 2.06.94-2.06 2.06-.94-2.06-.94-.94-2.06-.94 2.06-2.06.94z\"/><path d=\"M17.41 7.96l-1.37-1.37c-.4-.4-.92-.59-1.43-.59-.52 0-1.04.2-1.43.59L10.3 9.45l-7.72 7.72c-.78.78-.78 2.05 0 2.83L4 21.41c.39.39.9.59 1.41.59.51 0 1.02-.2 1.41-.59l7.78-7.78 2.81-2.81c.8-.78.8-2.07 0-2.86zM5.41 20L4 18.59l7.72-7.72 1.47 1.35L5.41 20z\"/>\n",
              "  </svg>\n",
              "      </button>\n",
              "      \n",
              "  <style>\n",
              "    .colab-df-container {\n",
              "      display:flex;\n",
              "      flex-wrap:wrap;\n",
              "      gap: 12px;\n",
              "    }\n",
              "\n",
              "    .colab-df-convert {\n",
              "      background-color: #E8F0FE;\n",
              "      border: none;\n",
              "      border-radius: 50%;\n",
              "      cursor: pointer;\n",
              "      display: none;\n",
              "      fill: #1967D2;\n",
              "      height: 32px;\n",
              "      padding: 0 0 0 0;\n",
              "      width: 32px;\n",
              "    }\n",
              "\n",
              "    .colab-df-convert:hover {\n",
              "      background-color: #E2EBFA;\n",
              "      box-shadow: 0px 1px 2px rgba(60, 64, 67, 0.3), 0px 1px 3px 1px rgba(60, 64, 67, 0.15);\n",
              "      fill: #174EA6;\n",
              "    }\n",
              "\n",
              "    [theme=dark] .colab-df-convert {\n",
              "      background-color: #3B4455;\n",
              "      fill: #D2E3FC;\n",
              "    }\n",
              "\n",
              "    [theme=dark] .colab-df-convert:hover {\n",
              "      background-color: #434B5C;\n",
              "      box-shadow: 0px 1px 3px 1px rgba(0, 0, 0, 0.15);\n",
              "      filter: drop-shadow(0px 1px 2px rgba(0, 0, 0, 0.3));\n",
              "      fill: #FFFFFF;\n",
              "    }\n",
              "  </style>\n",
              "\n",
              "      <script>\n",
              "        const buttonEl =\n",
              "          document.querySelector('#df-16531b10-4fee-4084-b9b5-d227970fab3a button.colab-df-convert');\n",
              "        buttonEl.style.display =\n",
              "          google.colab.kernel.accessAllowed ? 'block' : 'none';\n",
              "\n",
              "        async function convertToInteractive(key) {\n",
              "          const element = document.querySelector('#df-16531b10-4fee-4084-b9b5-d227970fab3a');\n",
              "          const dataTable =\n",
              "            await google.colab.kernel.invokeFunction('convertToInteractive',\n",
              "                                                     [key], {});\n",
              "          if (!dataTable) return;\n",
              "\n",
              "          const docLinkHtml = 'Like what you see? Visit the ' +\n",
              "            '<a target=\"_blank\" href=https://colab.research.google.com/notebooks/data_table.ipynb>data table notebook</a>'\n",
              "            + ' to learn more about interactive tables.';\n",
              "          element.innerHTML = '';\n",
              "          dataTable['output_type'] = 'display_data';\n",
              "          await google.colab.output.renderOutput(dataTable, element);\n",
              "          const docLink = document.createElement('div');\n",
              "          docLink.innerHTML = docLinkHtml;\n",
              "          element.appendChild(docLink);\n",
              "        }\n",
              "      </script>\n",
              "    </div>\n",
              "  </div>\n",
              "  "
            ]
          },
          "metadata": {},
          "execution_count": 5
        }
      ]
    },
    {
      "cell_type": "markdown",
      "source": [
        "Phân bố trạng thái khách hàng theo kinh độ và vĩ độ từ đó nhận biết được vùng dân cư chính khách hàng tập trung"
      ],
      "metadata": {
        "id": "i3GiwVD75POm"
      }
    },
    {
      "cell_type": "code",
      "source": [
        "plt.subplots(figsize=(20, 10))\n",
        "sns.scatterplot(data = data, x = 'Longitude', y='Latitude', hue = 'Customer Status')"
      ],
      "metadata": {
        "colab": {
          "base_uri": "https://localhost:8080/",
          "height": 620
        },
        "id": "DshRvwEPgKT_",
        "outputId": "4cbd87d5-ddf5-4c83-f340-9d75452e9a1f"
      },
      "execution_count": null,
      "outputs": [
        {
          "output_type": "execute_result",
          "data": {
            "text/plain": [
              "<Axes: xlabel='Longitude', ylabel='Latitude'>"
            ]
          },
          "metadata": {},
          "execution_count": 6
        },
        {
          "output_type": "display_data",
          "data": {
            "text/plain": [
              "<Figure size 1440x720 with 1 Axes>"
            ],
            "image/png": "[encoded data removed]"
          },
          "metadata": {
            "needs_background": "light"
          }
        }
      ]
    },
    {
      "cell_type": "markdown",
      "source": [
        "Tỷ lệ nhãn"
      ],
      "metadata": {
        "id": "L9cyBWff5qFH"
      }
    },
    {
      "cell_type": "code",
      "source": [
        "sns.countplot(x = data['Customer Status'])"
      ],
      "metadata": {
        "colab": {
          "base_uri": "https://localhost:8080/",
          "height": 296
        },
        "id": "med44xepg8Zx",
        "outputId": "abc705fe-ff3d-43f7-e8d2-acef9e8117cd"
      },
      "execution_count": null,
      "outputs": [
        {
          "output_type": "execute_result",
          "data": {
            "text/plain": [
              "<Axes: xlabel='Customer Status', ylabel='count'>"
            ]
          },
          "metadata": {},
          "execution_count": 7
        },
        {
          "output_type": "display_data",
          "data": {
            "text/plain": [
              "<Figure size 432x288 with 1 Axes>"
            ],
            "image/png": "[encoded data removed]"
          },
          "metadata": {
            "needs_background": "light"
          }
        }
      ]
    },
    {
      "cell_type": "code",
      "source": [
        "data['Customer Status'].value_counts()"
      ],
      "metadata": {
        "colab": {
          "base_uri": "https://localhost:8080/"
        },
        "id": "3gvLaodAxdsB",
        "outputId": "0b984994-cf10-4d73-f277-4f880d045f94"
      },
      "execution_count": null,
      "outputs": [
        {
          "output_type": "execute_result",
          "data": {
            "text/plain": [
              "Stayed     4720\n",
              "Churned    1869\n",
              "Joined      454\n",
              "Name: Customer Status, dtype: int64"
            ]
          },
          "metadata": {},
          "execution_count": 9
        }
      ]
    },
    {
      "cell_type": "code",
      "source": [
        "data.info()"
      ],
      "metadata": {
        "colab": {
          "base_uri": "https://localhost:8080/"
        },
        "id": "4umiAuS252-F",
        "outputId": "8f483974-e3de-4c04-fb43-2bd1e6f75586"
      },
      "execution_count": null,
      "outputs": [
        {
          "output_type": "stream",
          "name": "stdout",
          "text": [
            "<class 'pandas.core.frame.DataFrame'>\n",
            "RangeIndex: 7043 entries, 0 to 7042\n",
            "Data columns (total 38 columns):\n",
            " #   Column                             Non-Null Count  Dtype  \n",
            "---  ------                             --------------  -----  \n",
            " 0   Customer ID                        7043 non-null   object \n",
            " 1   Gender                             7043 non-null   object \n",
            " 2   Age                                7043 non-null   int64  \n",
            " 3   Married                            7043 non-null   object \n",
            " 4   Number of Dependents               7043 non-null   int64  \n",
            " 5   City                               7043 non-null   object \n",
            " 6   Zip Code                           7043 non-null   int64  \n",
            " 7   Latitude                           7043 non-null   float64\n",
            " 8   Longitude                          7043 non-null   float64\n",
            " 9   Number of Referrals                7043 non-null   int64  \n",
            " 10  Tenure in Months                   7043 non-null   int64  \n",
            " 11  Offer                              7043 non-null   object \n",
            " 12  Phone Service                      7043 non-null   object \n",
            " 13  Avg Monthly Long Distance Charges  6361 non-null   float64\n",
            " 14  Multiple Lines                     6361 non-null   object \n",
            " 15  Internet Service                   7043 non-null   object \n",
            " 16  Internet Type                      5517 non-null   object \n",
            " 17  Avg Monthly GB Download            5517 non-null   float64\n",
            " 18  Online Security                    5517 non-null   object \n",
            " 19  Online Backup                      5517 non-null   object \n",
            " 20  Device Protection Plan             5517 non-null   object \n",
            " 21  Premium Tech Support               5517 non-null   object \n",
            " 22  Streaming TV                       5517 non-null   object \n",
            " 23  Streaming Movies                   5517 non-null   object \n",
            " 24  Streaming Music                    5517 non-null   object \n",
            " 25  Unlimited Data                     5517 non-null   object \n",
            " 26  Contract                           7043 non-null   object \n",
            " 27  Paperless Billing                  7043 non-null   object \n",
            " 28  Payment Method                     7043 non-null   object \n",
            " 29  Monthly Charge                     7043 non-null   float64\n",
            " 30  Total Charges                      7043 non-null   float64\n",
            " 31  Total Refunds                      7043 non-null   float64\n",
            " 32  Total Extra Data Charges           7043 non-null   int64  \n",
            " 33  Total Long Distance Charges        7043 non-null   float64\n",
            " 34  Total Revenue                      7043 non-null   float64\n",
            " 35  Customer Status                    7043 non-null   object \n",
            " 36  Churn Category                     1869 non-null   object \n",
            " 37  Churn Reason                       1869 non-null   object \n",
            "dtypes: float64(9), int64(6), object(23)\n",
            "memory usage: 2.0+ MB\n"
          ]
        }
      ]
    },
    {
      "cell_type": "markdown",
      "source": [
        "Nhận thấy trường Zip Code bị sai kiểu dữ liệu nên cần đổi lại"
      ],
      "metadata": {
        "id": "bB7Zx83n6G3B"
      }
    },
    {
      "cell_type": "code",
      "source": [
        "data['Zip Code'] = data['Zip Code'].astype('object')"
      ],
      "metadata": {
        "id": "ZNCBRycO5_Ko"
      },
      "execution_count": null,
      "outputs": []
    },
    {
      "cell_type": "markdown",
      "source": [
        "###Data Numeric"
      ],
      "metadata": {
        "id": "CpSZMbcz50CU"
      }
    },
    {
      "cell_type": "code",
      "source": [
        "data_numeric = data.select_dtypes('number')\n",
        "data_numeric.head(5)"
      ],
      "metadata": {
        "colab": {
          "base_uri": "https://localhost:8080/",
          "height": 302
        },
        "id": "4Lx9thp45zXN",
        "outputId": "37635a2a-f673-4461-d687-7ee2f28aafeb"
      },
      "execution_count": null,
      "outputs": [
        {
          "output_type": "execute_result",
          "data": {
            "text/plain": [
              "   Age  Number of Dependents   Latitude   Longitude  Number of Referrals  \\\n",
              "0   37                     0  34.827662 -118.999073                    2   \n",
              "1   46                     0  34.162515 -118.203869                    0   \n",
              "2   50                     0  33.645672 -117.922613                    0   \n",
              "3   78                     0  38.014457 -122.115432                    1   \n",
              "4   75                     0  34.227846 -119.079903                    3   \n",
              "\n",
              "   Tenure in Months  Avg Monthly Long Distance Charges  \\\n",
              "0                 9                              42.39   \n",
              "1                 9                              10.69   \n",
              "2                 4                              33.65   \n",
              "3                13                              27.82   \n",
              "4                 3                               7.38   \n",
              "\n",
              "   Avg Monthly GB Download  Monthly Charge  Total Charges  Total Refunds  \\\n",
              "0                     16.0            65.6         593.30           0.00   \n",
              "1                     10.0            -4.0         542.40          38.33   \n",
              "2                     30.0            73.9         280.85           0.00   \n",
              "3                      4.0            98.0        1237.85           0.00   \n",
              "4                     11.0            83.9         267.40           0.00   \n",
              "\n",
              "   Total Extra Data Charges  Total Long Distance Charges  Total Revenue  \n",
              "0                         0                       381.51         974.81  \n",
              "1                        10                        96.21         610.28  \n",
              "2                         0                       134.60         415.45  \n",
              "3                         0                       361.66        1599.51  \n",
              "4                         0                        22.14         289.54  "
            ],
            "text/html": [
              "\n",
              "  <div id=\"df-58aa6bc2-f976-41a9-8314-43a5e77232d0\">\n",
              "    <div class=\"colab-df-container\">\n",
              "      <div>\n",
              "<style scoped>\n",
              "    .dataframe tbody tr th:only-of-type {\n",
              "        vertical-align: middle;\n",
              "    }\n",
              "\n",
              "    .dataframe tbody tr th {\n",
              "        vertical-align: top;\n",
              "    }\n",
              "\n",
              "    .dataframe thead th {\n",
              "        text-align: right;\n",
              "    }\n",
              "</style>\n",
              "<table border=\"1\" class=\"dataframe\">\n",
              "  <thead>\n",
              "    <tr style=\"text-align: right;\">\n",
              "      <th></th>\n",
              "      <th>Age</th>\n",
              "      <th>Number of Dependents</th>\n",
              "      <th>Latitude</th>\n",
              "      <th>Longitude</th>\n",
              "      <th>Number of Referrals</th>\n",
              "      <th>Tenure in Months</th>\n",
              "      <th>Avg Monthly Long Distance Charges</th>\n",
              "      <th>Avg Monthly GB Download</th>\n",
              "      <th>Monthly Charge</th>\n",
              "      <th>Total Charges</th>\n",
              "      <th>Total Refunds</th>\n",
              "      <th>Total Extra Data Charges</th>\n",
              "      <th>Total Long Distance Charges</th>\n",
              "      <th>Total Revenue</th>\n",
              "    </tr>\n",
              "  </thead>\n",
              "  <tbody>\n",
              "    <tr>\n",
              "      <th>0</th>\n",
              "      <td>37</td>\n",
              "      <td>0</td>\n",
              "      <td>34.827662</td>\n",
              "      <td>-118.999073</td>\n",
              "      <td>2</td>\n",
              "      <td>9</td>\n",
              "      <td>42.39</td>\n",
              "      <td>16.0</td>\n",
              "      <td>65.6</td>\n",
              "      <td>593.30</td>\n",
              "      <td>0.00</td>\n",
              "      <td>0</td>\n",
              "      <td>381.51</td>\n",
              "      <td>974.81</td>\n",
              "    </tr>\n",
              "    <tr>\n",
              "      <th>1</th>\n",
              "      <td>46</td>\n",
              "      <td>0</td>\n",
              "      <td>34.162515</td>\n",
              "      <td>-118.203869</td>\n",
              "      <td>0</td>\n",
              "      <td>9</td>\n",
              "      <td>10.69</td>\n",
              "      <td>10.0</td>\n",
              "      <td>-4.0</td>\n",
              "      <td>542.40</td>\n",
              "      <td>38.33</td>\n",
              "      <td>10</td>\n",
              "      <td>96.21</td>\n",
              "      <td>610.28</td>\n",
              "    </tr>\n",
              "    <tr>\n",
              "      <th>2</th>\n",
              "      <td>50</td>\n",
              "      <td>0</td>\n",
              "      <td>33.645672</td>\n",
              "      <td>-117.922613</td>\n",
              "      <td>0</td>\n",
              "      <td>4</td>\n",
              "      <td>33.65</td>\n",
              "      <td>30.0</td>\n",
              "      <td>73.9</td>\n",
              "      <td>280.85</td>\n",
              "      <td>0.00</td>\n",
              "      <td>0</td>\n",
              "      <td>134.60</td>\n",
              "      <td>415.45</td>\n",
              "    </tr>\n",
              "    <tr>\n",
              "      <th>3</th>\n",
              "      <td>78</td>\n",
              "      <td>0</td>\n",
              "      <td>38.014457</td>\n",
              "      <td>-122.115432</td>\n",
              "      <td>1</td>\n",
              "      <td>13</td>\n",
              "      <td>27.82</td>\n",
              "      <td>4.0</td>\n",
              "      <td>98.0</td>\n",
              "      <td>1237.85</td>\n",
              "      <td>0.00</td>\n",
              "      <td>0</td>\n",
              "      <td>361.66</td>\n",
              "      <td>1599.51</td>\n",
              "    </tr>\n",
              "    <tr>\n",
              "      <th>4</th>\n",
              "      <td>75</td>\n",
              "      <td>0</td>\n",
              "      <td>34.227846</td>\n",
              "      <td>-119.079903</td>\n",
              "      <td>3</td>\n",
              "      <td>3</td>\n",
              "      <td>7.38</td>\n",
              "      <td>11.0</td>\n",
              "      <td>83.9</td>\n",
              "      <td>267.40</td>\n",
              "      <td>0.00</td>\n",
              "      <td>0</td>\n",
              "      <td>22.14</td>\n",
              "      <td>289.54</td>\n",
              "    </tr>\n",
              "  </tbody>\n",
              "</table>\n",
              "</div>\n",
              "      <button class=\"colab-df-convert\" onclick=\"convertToInteractive('df-58aa6bc2-f976-41a9-8314-43a5e77232d0')\"\n",
              "              title=\"Convert this dataframe to an interactive table.\"\n",
              "              style=\"display:none;\">\n",
              "        \n",
              "  <svg xmlns=\"http://www.w3.org/2000/svg\" height=\"24px\"viewBox=\"0 0 24 24\"\n",
              "       width=\"24px\">\n",
              "    <path d=\"M0 0h24v24H0V0z\" fill=\"none\"/>\n",
              "    <path d=\"M18.56 5.44l.94 2.06.94-2.06 2.06-.94-2.06-.94-.94-2.06-.94 2.06-2.06.94zm-11 1L8.5 8.5l.94-2.06 2.06-.94-2.06-.94L8.5 2.5l-.94 2.06-2.06.94zm10 10l.94 2.06.94-2.06 2.06-.94-2.06-.94-.94-2.06-.94 2.06-2.06.94z\"/><path d=\"M17.41 7.96l-1.37-1.37c-.4-.4-.92-.59-1.43-.59-.52 0-1.04.2-1.43.59L10.3 9.45l-7.72 7.72c-.78.78-.78 2.05 0 2.83L4 21.41c.39.39.9.59 1.41.59.51 0 1.02-.2 1.41-.59l7.78-7.78 2.81-2.81c.8-.78.8-2.07 0-2.86zM5.41 20L4 18.59l7.72-7.72 1.47 1.35L5.41 20z\"/>\n",
              "  </svg>\n",
              "      </button>\n",
              "      \n",
              "  <style>\n",
              "    .colab-df-container {\n",
              "      display:flex;\n",
              "      flex-wrap:wrap;\n",
              "      gap: 12px;\n",
              "    }\n",
              "\n",
              "    .colab-df-convert {\n",
              "      background-color: #E8F0FE;\n",
              "      border: none;\n",
              "      border-radius: 50%;\n",
              "      cursor: pointer;\n",
              "      display: none;\n",
              "      fill: #1967D2;\n",
              "      height: 32px;\n",
              "      padding: 0 0 0 0;\n",
              "      width: 32px;\n",
              "    }\n",
              "\n",
              "    .colab-df-convert:hover {\n",
              "      background-color: #E2EBFA;\n",
              "      box-shadow: 0px 1px 2px rgba(60, 64, 67, 0.3), 0px 1px 3px 1px rgba(60, 64, 67, 0.15);\n",
              "      fill: #174EA6;\n",
              "    }\n",
              "\n",
              "    [theme=dark] .colab-df-convert {\n",
              "      background-color: #3B4455;\n",
              "      fill: #D2E3FC;\n",
              "    }\n",
              "\n",
              "    [theme=dark] .colab-df-convert:hover {\n",
              "      background-color: #434B5C;\n",
              "      box-shadow: 0px 1px 3px 1px rgba(0, 0, 0, 0.15);\n",
              "      filter: drop-shadow(0px 1px 2px rgba(0, 0, 0, 0.3));\n",
              "      fill: #FFFFFF;\n",
              "    }\n",
              "  </style>\n",
              "\n",
              "      <script>\n",
              "        const buttonEl =\n",
              "          document.querySelector('#df-58aa6bc2-f976-41a9-8314-43a5e77232d0 button.colab-df-convert');\n",
              "        buttonEl.style.display =\n",
              "          google.colab.kernel.accessAllowed ? 'block' : 'none';\n",
              "\n",
              "        async function convertToInteractive(key) {\n",
              "          const element = document.querySelector('#df-58aa6bc2-f976-41a9-8314-43a5e77232d0');\n",
              "          const dataTable =\n",
              "            await google.colab.kernel.invokeFunction('convertToInteractive',\n",
              "                                                     [key], {});\n",
              "          if (!dataTable) return;\n",
              "\n",
              "          const docLinkHtml = 'Like what you see? Visit the ' +\n",
              "            '<a target=\"_blank\" href=https://colab.research.google.com/notebooks/data_table.ipynb>data table notebook</a>'\n",
              "            + ' to learn more about interactive tables.';\n",
              "          element.innerHTML = '';\n",
              "          dataTable['output_type'] = 'display_data';\n",
              "          await google.colab.output.renderOutput(dataTable, element);\n",
              "          const docLink = document.createElement('div');\n",
              "          docLink.innerHTML = docLinkHtml;\n",
              "          element.appendChild(docLink);\n",
              "        }\n",
              "      </script>\n",
              "    </div>\n",
              "  </div>\n",
              "  "
            ]
          },
          "metadata": {},
          "execution_count": 12
        }
      ]
    },
    {
      "cell_type": "code",
      "source": [
        "data_numeric.drop(['Latitude', 'Longitude'], axis =1, inplace = True)"
      ],
      "metadata": {
        "id": "oQ5UYBK76cLP"
      },
      "execution_count": null,
      "outputs": []
    },
    {
      "cell_type": "code",
      "source": [
        "data_numeric.hist(figsize = (20,10), xrot = 45)"
      ],
      "metadata": {
        "colab": {
          "base_uri": "https://localhost:8080/",
          "height": 833
        },
        "id": "PPTHu1as6vmj",
        "outputId": "f5bdb781-9401-46e3-bced-0328b7ff709f"
      },
      "execution_count": null,
      "outputs": [
        {
          "output_type": "execute_result",
          "data": {
            "text/plain": [
              "array([[<Axes: title={'center': 'Age'}>,\n",
              "        <Axes: title={'center': 'Number of Dependents'}>,\n",
              "        <Axes: title={'center': 'Number of Referrals'}>],\n",
              "       [<Axes: title={'center': 'Tenure in Months'}>,\n",
              "        <Axes: title={'center': 'Avg Monthly Long Distance Charges'}>,\n",
              "        <Axes: title={'center': 'Avg Monthly GB Download'}>],\n",
              "       [<Axes: title={'center': 'Monthly Charge'}>,\n",
              "        <Axes: title={'center': 'Total Charges'}>,\n",
              "        <Axes: title={'center': 'Total Refunds'}>],\n",
              "       [<Axes: title={'center': 'Total Extra Data Charges'}>,\n",
              "        <Axes: title={'center': 'Total Long Distance Charges'}>,\n",
              "        <Axes: title={'center': 'Total Revenue'}>]], dtype=object)"
            ]
          },
          "metadata": {},
          "execution_count": 14
        },
        {
          "output_type": "display_data",
          "data": {
            "text/plain": [
              "<Figure size 1440x720 with 12 Axes>"
            ],
            "image/png": "[encoded data removed]"
          },
          "metadata": {
            "needs_background": "light"
          }
        }
      ]
    },
    {
      "cell_type": "markdown",
      "source": [
        "Nhận thấy phân bố của một số trường như Total Extra Data Charges, Number of Dependent, ... khá lệch => Nếu dùng các mạng Neural cần chuẩn hóa dữ liệu"
      ],
      "metadata": {
        "id": "uJhleNKX7EUI"
      }
    },
    {
      "cell_type": "code",
      "source": [
        "data_numeric.skew()"
      ],
      "metadata": {
        "colab": {
          "base_uri": "https://localhost:8080/"
        },
        "id": "VQEVJpGO7bfl",
        "outputId": "38ad6c05-a4c6-4790-ce10-7e0c11533f46"
      },
      "execution_count": null,
      "outputs": [
        {
          "output_type": "execute_result",
          "data": {
            "text/plain": [
              "Age                                  0.162186\n",
              "Number of Dependents                 2.109932\n",
              "Number of Referrals                  1.446060\n",
              "Tenure in Months                     0.240543\n",
              "Avg Monthly Long Distance Charges   -0.001971\n",
              "Avg Monthly GB Download              1.184056\n",
              "Monthly Charge                      -0.275394\n",
              "Total Charges                        0.963791\n",
              "Total Refunds                        4.328517\n",
              "Total Extra Data Charges             4.091209\n",
              "Total Long Distance Charges          1.238282\n",
              "Total Revenue                        0.919410\n",
              "dtype: float64"
            ]
          },
          "metadata": {},
          "execution_count": 15
        }
      ]
    },
    {
      "cell_type": "markdown",
      "source": [
        "Phân tích độ tương quan giữa các biến với nhau"
      ],
      "metadata": {
        "id": "YM63OSSS7vkK"
      }
    },
    {
      "cell_type": "code",
      "source": [
        "cor = data_numeric.corr().abs()\n",
        "plt.subplots(figsize=(20, 10))\n",
        "sns.heatmap(cor, annot = True)"
      ],
      "metadata": {
        "colab": {
          "base_uri": "https://localhost:8080/",
          "height": 570
        },
        "id": "OzwPoh527DtR",
        "outputId": "a1a111e5-36be-4d6c-c095-cf8e2ae180ab"
      },
      "execution_count": null,
      "outputs": [
        {
          "output_type": "execute_result",
          "data": {
            "text/plain": [
              "<matplotlib.axes._subplots.AxesSubplot at 0x7fdc8f11ae50>"
            ]
          },
          "metadata": {},
          "execution_count": 15
        },
        {
          "output_type": "display_data",
          "data": {
            "text/plain": [
              "<Figure size 1440x720 with 2 Axes>"
            ],
            "image/png": "[encoded data removed]"
          },
          "metadata": {
            "needs_background": "light"
          }
        }
      ]
    },
    {
      "cell_type": "markdown",
      "source": [
        "Nhận thấy các trường Charge liên quan đến phí, Revenue liên quan đến lợi nhuận thu được từ khách hàng đóng có tương quan cao với nhau => Dùng hồi quy tuyến tính có thể bỏ đi được."
      ],
      "metadata": {
        "id": "9uaplIwN8aNt"
      }
    },
    {
      "cell_type": "markdown",
      "source": [
        "Xem xét các Outlier của các trường dữ liệu số"
      ],
      "metadata": {
        "id": "8e5BCVjRAUaW"
      }
    },
    {
      "cell_type": "code",
      "source": [
        "data_numeric.boxplot(figsize = (20,10))"
      ],
      "metadata": {
        "colab": {
          "base_uri": "https://localhost:8080/",
          "height": 512
        },
        "id": "KEWbR-AN8Zus",
        "outputId": "3c91dd27-0407-424b-dd94-278e9e600230"
      },
      "execution_count": null,
      "outputs": [
        {
          "output_type": "stream",
          "name": "stderr",
          "text": [
            "/usr/local/lib/python3.8/dist-packages/matplotlib/cbook/__init__.py:1376: VisibleDeprecationWarning: Creating an ndarray from ragged nested sequences (which is a list-or-tuple of lists-or-tuples-or ndarrays with different lengths or shapes) is deprecated. If you meant to do this, you must specify 'dtype=object' when creating the ndarray.\n",
            "  X = np.atleast_1d(X.T if isinstance(X, np.ndarray) else np.asarray(X))\n"
          ]
        },
        {
          "output_type": "execute_result",
          "data": {
            "text/plain": [
              "<matplotlib.axes._subplots.AxesSubplot at 0x7fdc8ee26be0>"
            ]
          },
          "metadata": {},
          "execution_count": 16
        },
        {
          "output_type": "display_data",
          "data": {
            "text/plain": [
              "<Figure size 1440x720 with 1 Axes>"
            ],
            "image/png": "[encoded data removed]"
          },
          "metadata": {
            "needs_background": "light"
          }
        }
      ]
    },
    {
      "cell_type": "code",
      "source": [
        "num_outlier = {\"Cols\": [], \"Number Outlier\": [], \"Percentage of Outlier\" : []}\n",
        "for cols in data_numeric.columns:\n",
        "  q1 = data_numeric[cols].quantile(0.25)\n",
        "  q3 = data_numeric[cols].quantile(0.75)\n",
        "  iqr = q3 - q1\n",
        "  outliers = data_numeric[data_numeric[cols] < q1 - 1.5 * iqr].shape[0] + data_numeric[data_numeric[cols] > q3 +1.5 * iqr].shape[0]\n",
        "  num_outlier[\"Cols\"].append(cols)\n",
        "  num_outlier[\"Number Outlier\"].append(outliers)\n",
        "  num_outlier[\"Percentage of Outlier\"].append(outliers / data_numeric.shape[0])\n",
        "pd.DataFrame.from_dict(num_outlier)"
      ],
      "metadata": {
        "colab": {
          "base_uri": "https://localhost:8080/",
          "height": 425
        },
        "id": "mZBhhVWpC6l1",
        "outputId": "76c98095-a372-481d-eb1a-6d1ca82311fa"
      },
      "execution_count": null,
      "outputs": [
        {
          "output_type": "execute_result",
          "data": {
            "text/plain": [
              "                                 Cols  Number Outlier  Percentage of Outlier\n",
              "0                                 Age               0               0.000000\n",
              "1                Number of Dependents            1627               0.231010\n",
              "2                 Number of Referrals             676               0.095982\n",
              "3                    Tenure in Months               0               0.000000\n",
              "4   Avg Monthly Long Distance Charges               0               0.000000\n",
              "5             Avg Monthly GB Download             649               0.092148\n",
              "6                      Monthly Charge               0               0.000000\n",
              "7                       Total Charges               0               0.000000\n",
              "8                       Total Refunds             525               0.074542\n",
              "9            Total Extra Data Charges             728               0.103365\n",
              "10        Total Long Distance Charges             196               0.027829\n",
              "11                      Total Revenue              21               0.002982"
            ],
            "text/html": [
              "\n",
              "  <div id=\"df-5f7cfabb-954e-4185-980f-9fa6e709b09b\">\n",
              "    <div class=\"colab-df-container\">\n",
              "      <div>\n",
              "<style scoped>\n",
              "    .dataframe tbody tr th:only-of-type {\n",
              "        vertical-align: middle;\n",
              "    }\n",
              "\n",
              "    .dataframe tbody tr th {\n",
              "        vertical-align: top;\n",
              "    }\n",
              "\n",
              "    .dataframe thead th {\n",
              "        text-align: right;\n",
              "    }\n",
              "</style>\n",
              "<table border=\"1\" class=\"dataframe\">\n",
              "  <thead>\n",
              "    <tr style=\"text-align: right;\">\n",
              "      <th></th>\n",
              "      <th>Cols</th>\n",
              "      <th>Number Outlier</th>\n",
              "      <th>Percentage of Outlier</th>\n",
              "    </tr>\n",
              "  </thead>\n",
              "  <tbody>\n",
              "    <tr>\n",
              "      <th>0</th>\n",
              "      <td>Age</td>\n",
              "      <td>0</td>\n",
              "      <td>0.000000</td>\n",
              "    </tr>\n",
              "    <tr>\n",
              "      <th>1</th>\n",
              "      <td>Number of Dependents</td>\n",
              "      <td>1627</td>\n",
              "      <td>0.231010</td>\n",
              "    </tr>\n",
              "    <tr>\n",
              "      <th>2</th>\n",
              "      <td>Number of Referrals</td>\n",
              "      <td>676</td>\n",
              "      <td>0.095982</td>\n",
              "    </tr>\n",
              "    <tr>\n",
              "      <th>3</th>\n",
              "      <td>Tenure in Months</td>\n",
              "      <td>0</td>\n",
              "      <td>0.000000</td>\n",
              "    </tr>\n",
              "    <tr>\n",
              "      <th>4</th>\n",
              "      <td>Avg Monthly Long Distance Charges</td>\n",
              "      <td>0</td>\n",
              "      <td>0.000000</td>\n",
              "    </tr>\n",
              "    <tr>\n",
              "      <th>5</th>\n",
              "      <td>Avg Monthly GB Download</td>\n",
              "      <td>649</td>\n",
              "      <td>0.092148</td>\n",
              "    </tr>\n",
              "    <tr>\n",
              "      <th>6</th>\n",
              "      <td>Monthly Charge</td>\n",
              "      <td>0</td>\n",
              "      <td>0.000000</td>\n",
              "    </tr>\n",
              "    <tr>\n",
              "      <th>7</th>\n",
              "      <td>Total Charges</td>\n",
              "      <td>0</td>\n",
              "      <td>0.000000</td>\n",
              "    </tr>\n",
              "    <tr>\n",
              "      <th>8</th>\n",
              "      <td>Total Refunds</td>\n",
              "      <td>525</td>\n",
              "      <td>0.074542</td>\n",
              "    </tr>\n",
              "    <tr>\n",
              "      <th>9</th>\n",
              "      <td>Total Extra Data Charges</td>\n",
              "      <td>728</td>\n",
              "      <td>0.103365</td>\n",
              "    </tr>\n",
              "    <tr>\n",
              "      <th>10</th>\n",
              "      <td>Total Long Distance Charges</td>\n",
              "      <td>196</td>\n",
              "      <td>0.027829</td>\n",
              "    </tr>\n",
              "    <tr>\n",
              "      <th>11</th>\n",
              "      <td>Total Revenue</td>\n",
              "      <td>21</td>\n",
              "      <td>0.002982</td>\n",
              "    </tr>\n",
              "  </tbody>\n",
              "</table>\n",
              "</div>\n",
              "      <button class=\"colab-df-convert\" onclick=\"convertToInteractive('df-5f7cfabb-954e-4185-980f-9fa6e709b09b')\"\n",
              "              title=\"Convert this dataframe to an interactive table.\"\n",
              "              style=\"display:none;\">\n",
              "        \n",
              "  <svg xmlns=\"http://www.w3.org/2000/svg\" height=\"24px\"viewBox=\"0 0 24 24\"\n",
              "       width=\"24px\">\n",
              "    <path d=\"M0 0h24v24H0V0z\" fill=\"none\"/>\n",
              "    <path d=\"M18.56 5.44l.94 2.06.94-2.06 2.06-.94-2.06-.94-.94-2.06-.94 2.06-2.06.94zm-11 1L8.5 8.5l.94-2.06 2.06-.94-2.06-.94L8.5 2.5l-.94 2.06-2.06.94zm10 10l.94 2.06.94-2.06 2.06-.94-2.06-.94-.94-2.06-.94 2.06-2.06.94z\"/><path d=\"M17.41 7.96l-1.37-1.37c-.4-.4-.92-.59-1.43-.59-.52 0-1.04.2-1.43.59L10.3 9.45l-7.72 7.72c-.78.78-.78 2.05 0 2.83L4 21.41c.39.39.9.59 1.41.59.51 0 1.02-.2 1.41-.59l7.78-7.78 2.81-2.81c.8-.78.8-2.07 0-2.86zM5.41 20L4 18.59l7.72-7.72 1.47 1.35L5.41 20z\"/>\n",
              "  </svg>\n",
              "      </button>\n",
              "      \n",
              "  <style>\n",
              "    .colab-df-container {\n",
              "      display:flex;\n",
              "      flex-wrap:wrap;\n",
              "      gap: 12px;\n",
              "    }\n",
              "\n",
              "    .colab-df-convert {\n",
              "      background-color: #E8F0FE;\n",
              "      border: none;\n",
              "      border-radius: 50%;\n",
              "      cursor: pointer;\n",
              "      display: none;\n",
              "      fill: #1967D2;\n",
              "      height: 32px;\n",
              "      padding: 0 0 0 0;\n",
              "      width: 32px;\n",
              "    }\n",
              "\n",
              "    .colab-df-convert:hover {\n",
              "      background-color: #E2EBFA;\n",
              "      box-shadow: 0px 1px 2px rgba(60, 64, 67, 0.3), 0px 1px 3px 1px rgba(60, 64, 67, 0.15);\n",
              "      fill: #174EA6;\n",
              "    }\n",
              "\n",
              "    [theme=dark] .colab-df-convert {\n",
              "      background-color: #3B4455;\n",
              "      fill: #D2E3FC;\n",
              "    }\n",
              "\n",
              "    [theme=dark] .colab-df-convert:hover {\n",
              "      background-color: #434B5C;\n",
              "      box-shadow: 0px 1px 3px 1px rgba(0, 0, 0, 0.15);\n",
              "      filter: drop-shadow(0px 1px 2px rgba(0, 0, 0, 0.3));\n",
              "      fill: #FFFFFF;\n",
              "    }\n",
              "  </style>\n",
              "\n",
              "      <script>\n",
              "        const buttonEl =\n",
              "          document.querySelector('#df-5f7cfabb-954e-4185-980f-9fa6e709b09b button.colab-df-convert');\n",
              "        buttonEl.style.display =\n",
              "          google.colab.kernel.accessAllowed ? 'block' : 'none';\n",
              "\n",
              "        async function convertToInteractive(key) {\n",
              "          const element = document.querySelector('#df-5f7cfabb-954e-4185-980f-9fa6e709b09b');\n",
              "          const dataTable =\n",
              "            await google.colab.kernel.invokeFunction('convertToInteractive',\n",
              "                                                     [key], {});\n",
              "          if (!dataTable) return;\n",
              "\n",
              "          const docLinkHtml = 'Like what you see? Visit the ' +\n",
              "            '<a target=\"_blank\" href=https://colab.research.google.com/notebooks/data_table.ipynb>data table notebook</a>'\n",
              "            + ' to learn more about interactive tables.';\n",
              "          element.innerHTML = '';\n",
              "          dataTable['output_type'] = 'display_data';\n",
              "          await google.colab.output.renderOutput(dataTable, element);\n",
              "          const docLink = document.createElement('div');\n",
              "          docLink.innerHTML = docLinkHtml;\n",
              "          element.appendChild(docLink);\n",
              "        }\n",
              "      </script>\n",
              "    </div>\n",
              "  </div>\n",
              "  "
            ]
          },
          "metadata": {},
          "execution_count": 17
        }
      ]
    },
    {
      "cell_type": "markdown",
      "source": [
        "Xem phân bố tuổi ảnh hưởng đến các biến có Outlier nhiều như nào (Tuổi tác dễ ảnh hưởng đến thói quen tạo ra các Outlier)"
      ],
      "metadata": {
        "id": "mAv7nvriEyP6"
      }
    },
    {
      "cell_type": "code",
      "source": [
        "data['Age'].describe()"
      ],
      "metadata": {
        "colab": {
          "base_uri": "https://localhost:8080/"
        },
        "id": "6olandR_Exzd",
        "outputId": "22072dd8-978f-4c8f-cae8-9db7a12517cf"
      },
      "execution_count": null,
      "outputs": [
        {
          "output_type": "execute_result",
          "data": {
            "text/plain": [
              "count    7043.000000\n",
              "mean       46.509726\n",
              "std        16.750352\n",
              "min        19.000000\n",
              "25%        32.000000\n",
              "50%        46.000000\n",
              "75%        60.000000\n",
              "max        80.000000\n",
              "Name: Age, dtype: float64"
            ]
          },
          "metadata": {},
          "execution_count": 18
        }
      ]
    },
    {
      "cell_type": "code",
      "source": [
        "bins = [18, 25, 35, 45, 60, 80]\n",
        "names = ['18 - 25', '25 - 35', '35 - 45', '45 - 60', '60 - 80']\n",
        "data['Age Range'] = pd.cut(data['Age'], bins, labels = names, include_lowest = True)\n",
        "sns.countplot(data['Age Range'])"
      ],
      "metadata": {
        "colab": {
          "base_uri": "https://localhost:8080/",
          "height": 355
        },
        "id": "r8VwbBhzElSO",
        "outputId": "e101854f-ac79-4562-d443-aca5a77e64ee"
      },
      "execution_count": null,
      "outputs": [
        {
          "output_type": "stream",
          "name": "stderr",
          "text": [
            "/usr/local/lib/python3.8/dist-packages/seaborn/_decorators.py:36: FutureWarning: Pass the following variable as a keyword arg: x. From version 0.12, the only valid positional argument will be `data`, and passing other arguments without an explicit keyword will result in an error or misinterpretation.\n",
            "  warnings.warn(\n"
          ]
        },
        {
          "output_type": "execute_result",
          "data": {
            "text/plain": [
              "<matplotlib.axes._subplots.AxesSubplot at 0x7fdc8c1b8580>"
            ]
          },
          "metadata": {},
          "execution_count": 19
        },
        {
          "output_type": "display_data",
          "data": {
            "text/plain": [
              "<Figure size 432x288 with 1 Axes>"
            ],
            "image/png": "[encoded data removed]"
          },
          "metadata": {
            "needs_background": "light"
          }
        }
      ]
    },
    {
      "cell_type": "code",
      "source": [
        "sns.boxplot(x = 'Avg Monthly GB Download', y = 'Age Range', data =data)"
      ],
      "metadata": {
        "colab": {
          "base_uri": "https://localhost:8080/",
          "height": 296
        },
        "id": "8Y4EUwLtLBQh",
        "outputId": "b3377501-74af-44e9-98b7-fd3567b8ed4c"
      },
      "execution_count": null,
      "outputs": [
        {
          "output_type": "execute_result",
          "data": {
            "text/plain": [
              "<matplotlib.axes._subplots.AxesSubplot at 0x7fdc8c309850>"
            ]
          },
          "metadata": {},
          "execution_count": 20
        },
        {
          "output_type": "display_data",
          "data": {
            "text/plain": [
              "<Figure size 432x288 with 1 Axes>"
            ],
            "image/png": "[encoded data removed]"
          },
          "metadata": {
            "needs_background": "light"
          }
        }
      ]
    },
    {
      "cell_type": "markdown",
      "source": [
        "Xu hướng người trẻ download nhiều hơn"
      ],
      "metadata": {
        "id": "2zf6mwwALmq6"
      }
    },
    {
      "cell_type": "code",
      "source": [
        "sns.catplot(data = data_numeric.join(data[['Customer Status', 'Age Range']]), x = 'Age Range', y = 'Monthly Charge', col = 'Customer Status', kind = 'box')"
      ],
      "metadata": {
        "colab": {
          "base_uri": "https://localhost:8080/",
          "height": 316
        },
        "id": "2uzgXNcn9Pk_",
        "outputId": "7669f806-6611-4b9d-c6b8-83099081ad16"
      },
      "execution_count": null,
      "outputs": [
        {
          "output_type": "execute_result",
          "data": {
            "text/plain": [
              "<seaborn.axisgrid.FacetGrid at 0x7fdc8c446e50>"
            ]
          },
          "metadata": {},
          "execution_count": 21
        },
        {
          "output_type": "display_data",
          "data": {
            "text/plain": [
              "<Figure size 1080x360 with 3 Axes>"
            ],
            "image/png": "[encoded data removed]"
          },
          "metadata": {
            "needs_background": "light"
          }
        }
      ]
    },
    {
      "cell_type": "markdown",
      "source": [
        "Xu hướng những người cao tuổi có tổng phí hàng tháng từ tất cả dịch vụ cao hơn. Những người rời mạng đang có trung bình chi tiêu cao hơn"
      ],
      "metadata": {
        "id": "lTcs3uy__y26"
      }
    },
    {
      "cell_type": "code",
      "source": [
        "sns.catplot(data = data_numeric.join(data[['Customer Status', 'Age Range']]), x = 'Age Range', y = 'Tenure in Months', col = 'Customer Status', kind = 'box')"
      ],
      "metadata": {
        "colab": {
          "base_uri": "https://localhost:8080/",
          "height": 316
        },
        "id": "sS69q5qT_nrE",
        "outputId": "c4dbb64b-ab75-4926-fbad-2752e08a8ed1"
      },
      "execution_count": null,
      "outputs": [
        {
          "output_type": "execute_result",
          "data": {
            "text/plain": [
              "<seaborn.axisgrid.FacetGrid at 0x7fdc8bea7d60>"
            ]
          },
          "metadata": {},
          "execution_count": 22
        },
        {
          "output_type": "display_data",
          "data": {
            "text/plain": [
              "<Figure size 1080x360 with 3 Axes>"
            ],
            "image/png": "[encoded data removed]"
          },
          "metadata": {
            "needs_background": "light"
          }
        }
      ]
    },
    {
      "cell_type": "markdown",
      "source": [
        "Đa phần khách hàng đã làm việc với công ty từ 30 tháng trở lên sẽ gắn bó lâu dài với công ty"
      ],
      "metadata": {
        "id": "F8IAyVKvAtT9"
      }
    },
    {
      "cell_type": "markdown",
      "source": [
        "## Data Categorical"
      ],
      "metadata": {
        "id": "XRIKJ6ZQBR8A"
      }
    },
    {
      "cell_type": "code",
      "source": [
        "data_object = data.select_dtypes('object')"
      ],
      "metadata": {
        "id": "JwKl7ydjBE9K"
      },
      "execution_count": null,
      "outputs": []
    },
    {
      "cell_type": "code",
      "source": [
        "pd.crosstab(data['Customer Status'], data['Payment Method'])"
      ],
      "metadata": {
        "colab": {
          "base_uri": "https://localhost:8080/",
          "height": 174
        },
        "id": "yTxeE0LgNFIo",
        "outputId": "473b3a4a-3338-4a05-9523-c76784018b4d"
      },
      "execution_count": null,
      "outputs": [
        {
          "output_type": "execute_result",
          "data": {
            "text/plain": [
              "Payment Method   Bank Withdrawal  Credit Card  Mailed Check\n",
              "Customer Status                                            \n",
              "Churned                     1329          398           142\n",
              "Joined                       181          231            42\n",
              "Stayed                      2399         2120           201"
            ],
            "text/html": [
              "\n",
              "  <div id=\"df-0c3f352b-32e0-4c83-b3ef-727938a2f612\">\n",
              "    <div class=\"colab-df-container\">\n",
              "      <div>\n",
              "<style scoped>\n",
              "    .dataframe tbody tr th:only-of-type {\n",
              "        vertical-align: middle;\n",
              "    }\n",
              "\n",
              "    .dataframe tbody tr th {\n",
              "        vertical-align: top;\n",
              "    }\n",
              "\n",
              "    .dataframe thead th {\n",
              "        text-align: right;\n",
              "    }\n",
              "</style>\n",
              "<table border=\"1\" class=\"dataframe\">\n",
              "  <thead>\n",
              "    <tr style=\"text-align: right;\">\n",
              "      <th>Payment Method</th>\n",
              "      <th>Bank Withdrawal</th>\n",
              "      <th>Credit Card</th>\n",
              "      <th>Mailed Check</th>\n",
              "    </tr>\n",
              "    <tr>\n",
              "      <th>Customer Status</th>\n",
              "      <th></th>\n",
              "      <th></th>\n",
              "      <th></th>\n",
              "    </tr>\n",
              "  </thead>\n",
              "  <tbody>\n",
              "    <tr>\n",
              "      <th>Churned</th>\n",
              "      <td>1329</td>\n",
              "      <td>398</td>\n",
              "      <td>142</td>\n",
              "    </tr>\n",
              "    <tr>\n",
              "      <th>Joined</th>\n",
              "      <td>181</td>\n",
              "      <td>231</td>\n",
              "      <td>42</td>\n",
              "    </tr>\n",
              "    <tr>\n",
              "      <th>Stayed</th>\n",
              "      <td>2399</td>\n",
              "      <td>2120</td>\n",
              "      <td>201</td>\n",
              "    </tr>\n",
              "  </tbody>\n",
              "</table>\n",
              "</div>\n",
              "      <button class=\"colab-df-convert\" onclick=\"convertToInteractive('df-0c3f352b-32e0-4c83-b3ef-727938a2f612')\"\n",
              "              title=\"Convert this dataframe to an interactive table.\"\n",
              "              style=\"display:none;\">\n",
              "        \n",
              "  <svg xmlns=\"http://www.w3.org/2000/svg\" height=\"24px\"viewBox=\"0 0 24 24\"\n",
              "       width=\"24px\">\n",
              "    <path d=\"M0 0h24v24H0V0z\" fill=\"none\"/>\n",
              "    <path d=\"M18.56 5.44l.94 2.06.94-2.06 2.06-.94-2.06-.94-.94-2.06-.94 2.06-2.06.94zm-11 1L8.5 8.5l.94-2.06 2.06-.94-2.06-.94L8.5 2.5l-.94 2.06-2.06.94zm10 10l.94 2.06.94-2.06 2.06-.94-2.06-.94-.94-2.06-.94 2.06-2.06.94z\"/><path d=\"M17.41 7.96l-1.37-1.37c-.4-.4-.92-.59-1.43-.59-.52 0-1.04.2-1.43.59L10.3 9.45l-7.72 7.72c-.78.78-.78 2.05 0 2.83L4 21.41c.39.39.9.59 1.41.59.51 0 1.02-.2 1.41-.59l7.78-7.78 2.81-2.81c.8-.78.8-2.07 0-2.86zM5.41 20L4 18.59l7.72-7.72 1.47 1.35L5.41 20z\"/>\n",
              "  </svg>\n",
              "      </button>\n",
              "      \n",
              "  <style>\n",
              "    .colab-df-container {\n",
              "      display:flex;\n",
              "      flex-wrap:wrap;\n",
              "      gap: 12px;\n",
              "    }\n",
              "\n",
              "    .colab-df-convert {\n",
              "      background-color: #E8F0FE;\n",
              "      border: none;\n",
              "      border-radius: 50%;\n",
              "      cursor: pointer;\n",
              "      display: none;\n",
              "      fill: #1967D2;\n",
              "      height: 32px;\n",
              "      padding: 0 0 0 0;\n",
              "      width: 32px;\n",
              "    }\n",
              "\n",
              "    .colab-df-convert:hover {\n",
              "      background-color: #E2EBFA;\n",
              "      box-shadow: 0px 1px 2px rgba(60, 64, 67, 0.3), 0px 1px 3px 1px rgba(60, 64, 67, 0.15);\n",
              "      fill: #174EA6;\n",
              "    }\n",
              "\n",
              "    [theme=dark] .colab-df-convert {\n",
              "      background-color: #3B4455;\n",
              "      fill: #D2E3FC;\n",
              "    }\n",
              "\n",
              "    [theme=dark] .colab-df-convert:hover {\n",
              "      background-color: #434B5C;\n",
              "      box-shadow: 0px 1px 3px 1px rgba(0, 0, 0, 0.15);\n",
              "      filter: drop-shadow(0px 1px 2px rgba(0, 0, 0, 0.3));\n",
              "      fill: #FFFFFF;\n",
              "    }\n",
              "  </style>\n",
              "\n",
              "      <script>\n",
              "        const buttonEl =\n",
              "          document.querySelector('#df-0c3f352b-32e0-4c83-b3ef-727938a2f612 button.colab-df-convert');\n",
              "        buttonEl.style.display =\n",
              "          google.colab.kernel.accessAllowed ? 'block' : 'none';\n",
              "\n",
              "        async function convertToInteractive(key) {\n",
              "          const element = document.querySelector('#df-0c3f352b-32e0-4c83-b3ef-727938a2f612');\n",
              "          const dataTable =\n",
              "            await google.colab.kernel.invokeFunction('convertToInteractive',\n",
              "                                                     [key], {});\n",
              "          if (!dataTable) return;\n",
              "\n",
              "          const docLinkHtml = 'Like what you see? Visit the ' +\n",
              "            '<a target=\"_blank\" href=https://colab.research.google.com/notebooks/data_table.ipynb>data table notebook</a>'\n",
              "            + ' to learn more about interactive tables.';\n",
              "          element.innerHTML = '';\n",
              "          dataTable['output_type'] = 'display_data';\n",
              "          await google.colab.output.renderOutput(dataTable, element);\n",
              "          const docLink = document.createElement('div');\n",
              "          docLink.innerHTML = docLinkHtml;\n",
              "          element.appendChild(docLink);\n",
              "        }\n",
              "      </script>\n",
              "    </div>\n",
              "  </div>\n",
              "  "
            ]
          },
          "metadata": {},
          "execution_count": 24
        }
      ]
    },
    {
      "cell_type": "code",
      "source": [
        "pd.pivot_table(data =data, columns = 'Customer Status', index = 'Payment Method')"
      ],
      "metadata": {
        "colab": {
          "base_uri": "https://localhost:8080/",
          "height": 438
        },
        "id": "yjUZP9FeM9uJ",
        "outputId": "c453f887-2074-43d0-ca1d-af72cc88a0cd"
      },
      "execution_count": null,
      "outputs": [
        {
          "output_type": "execute_result",
          "data": {
            "text/plain": [
              "                       Age                       Avg Monthly GB Download  \\\n",
              "Customer Status    Churned     Joined     Stayed                 Churned   \n",
              "Payment Method                                                             \n",
              "Bank Withdrawal  50.796087  45.160221  47.160067               23.036265   \n",
              "Credit Card      48.293970  41.177489  43.881132               24.778098   \n",
              "Mailed Check     43.852113  42.309524  44.696517               26.486726   \n",
              "\n",
              "                                      Avg Monthly Long Distance Charges  \\\n",
              "Customer Status     Joined     Stayed                           Churned   \n",
              "Payment Method                                                            \n",
              "Bank Withdrawal  25.616438  27.223050                         25.528597   \n",
              "Credit Card      25.830189  27.995611                         25.339458   \n",
              "Mailed Check     22.850000  27.880734                         25.503305   \n",
              "\n",
              "                                        Latitude  ...  \\\n",
              "Customer Status     Joined     Stayed    Churned  ...   \n",
              "Payment Method                                    ...   \n",
              "Bank Withdrawal  23.029760  25.748242  36.024960  ...   \n",
              "Credit Card      24.839716  25.294751  35.939418  ...   \n",
              "Mailed Check     27.304737  24.695674  36.288946  ...   \n",
              "\n",
              "                Total Extra Data Charges Total Long Distance Charges  \\\n",
              "Customer Status                   Stayed                     Churned   \n",
              "Payment Method                                                         \n",
              "Bank Withdrawal                 8.674448                  450.166576   \n",
              "Credit Card                     5.764151                  479.608995   \n",
              "Mailed Check                    4.129353                  153.775634   \n",
              "\n",
              "                                       Total Refunds                      \\\n",
              "Customer Status     Joined      Stayed       Churned    Joined    Stayed   \n",
              "Payment Method                                                             \n",
              "Bank Withdrawal  38.561160  979.484644      1.712430  0.339227  2.577632   \n",
              "Credit Card      36.731775  927.430278      1.247789  0.035108  2.048142   \n",
              "Mailed Check     43.918810  655.070398      0.468592  0.924762  1.723980   \n",
              "\n",
              "                Total Revenue                           \n",
              "Customer Status       Churned      Joined       Stayed  \n",
              "Payment Method                                          \n",
              "Bank Withdrawal   2076.037404  142.244862  4121.421955  \n",
              "Credit Card       2098.302663  102.730000  3442.608995  \n",
              "Mailed Check       635.786268  114.352381  2222.735224  \n",
              "\n",
              "[3 rows x 42 columns]"
            ],
            "text/html": [
              "\n",
              "  <div id=\"df-4bc1f83f-be16-458c-9b0a-f6f3973fab3d\">\n",
              "    <div class=\"colab-df-container\">\n",
              "      <div>\n",
              "<style scoped>\n",
              "    .dataframe tbody tr th:only-of-type {\n",
              "        vertical-align: middle;\n",
              "    }\n",
              "\n",
              "    .dataframe tbody tr th {\n",
              "        vertical-align: top;\n",
              "    }\n",
              "\n",
              "    .dataframe thead tr th {\n",
              "        text-align: left;\n",
              "    }\n",
              "\n",
              "    .dataframe thead tr:last-of-type th {\n",
              "        text-align: right;\n",
              "    }\n",
              "</style>\n",
              "<table border=\"1\" class=\"dataframe\">\n",
              "  <thead>\n",
              "    <tr>\n",
              "      <th></th>\n",
              "      <th colspan=\"3\" halign=\"left\">Age</th>\n",
              "      <th colspan=\"3\" halign=\"left\">Avg Monthly GB Download</th>\n",
              "      <th colspan=\"3\" halign=\"left\">Avg Monthly Long Distance Charges</th>\n",
              "      <th>Latitude</th>\n",
              "      <th>...</th>\n",
              "      <th>Total Extra Data Charges</th>\n",
              "      <th colspan=\"3\" halign=\"left\">Total Long Distance Charges</th>\n",
              "      <th colspan=\"3\" halign=\"left\">Total Refunds</th>\n",
              "      <th colspan=\"3\" halign=\"left\">Total Revenue</th>\n",
              "    </tr>\n",
              "    <tr>\n",
              "      <th>Customer Status</th>\n",
              "      <th>Churned</th>\n",
              "      <th>Joined</th>\n",
              "      <th>Stayed</th>\n",
              "      <th>Churned</th>\n",
              "      <th>Joined</th>\n",
              "      <th>Stayed</th>\n",
              "      <th>Churned</th>\n",
              "      <th>Joined</th>\n",
              "      <th>Stayed</th>\n",
              "      <th>Churned</th>\n",
              "      <th>...</th>\n",
              "      <th>Stayed</th>\n",
              "      <th>Churned</th>\n",
              "      <th>Joined</th>\n",
              "      <th>Stayed</th>\n",
              "      <th>Churned</th>\n",
              "      <th>Joined</th>\n",
              "      <th>Stayed</th>\n",
              "      <th>Churned</th>\n",
              "      <th>Joined</th>\n",
              "      <th>Stayed</th>\n",
              "    </tr>\n",
              "    <tr>\n",
              "      <th>Payment Method</th>\n",
              "      <th></th>\n",
              "      <th></th>\n",
              "      <th></th>\n",
              "      <th></th>\n",
              "      <th></th>\n",
              "      <th></th>\n",
              "      <th></th>\n",
              "      <th></th>\n",
              "      <th></th>\n",
              "      <th></th>\n",
              "      <th></th>\n",
              "      <th></th>\n",
              "      <th></th>\n",
              "      <th></th>\n",
              "      <th></th>\n",
              "      <th></th>\n",
              "      <th></th>\n",
              "      <th></th>\n",
              "      <th></th>\n",
              "      <th></th>\n",
              "      <th></th>\n",
              "    </tr>\n",
              "  </thead>\n",
              "  <tbody>\n",
              "    <tr>\n",
              "      <th>Bank Withdrawal</th>\n",
              "      <td>50.796087</td>\n",
              "      <td>45.160221</td>\n",
              "      <td>47.160067</td>\n",
              "      <td>23.036265</td>\n",
              "      <td>25.616438</td>\n",
              "      <td>27.223050</td>\n",
              "      <td>25.528597</td>\n",
              "      <td>23.029760</td>\n",
              "      <td>25.748242</td>\n",
              "      <td>36.024960</td>\n",
              "      <td>...</td>\n",
              "      <td>8.674448</td>\n",
              "      <td>450.166576</td>\n",
              "      <td>38.561160</td>\n",
              "      <td>979.484644</td>\n",
              "      <td>1.712430</td>\n",
              "      <td>0.339227</td>\n",
              "      <td>2.577632</td>\n",
              "      <td>2076.037404</td>\n",
              "      <td>142.244862</td>\n",
              "      <td>4121.421955</td>\n",
              "    </tr>\n",
              "    <tr>\n",
              "      <th>Credit Card</th>\n",
              "      <td>48.293970</td>\n",
              "      <td>41.177489</td>\n",
              "      <td>43.881132</td>\n",
              "      <td>24.778098</td>\n",
              "      <td>25.830189</td>\n",
              "      <td>27.995611</td>\n",
              "      <td>25.339458</td>\n",
              "      <td>24.839716</td>\n",
              "      <td>25.294751</td>\n",
              "      <td>35.939418</td>\n",
              "      <td>...</td>\n",
              "      <td>5.764151</td>\n",
              "      <td>479.608995</td>\n",
              "      <td>36.731775</td>\n",
              "      <td>927.430278</td>\n",
              "      <td>1.247789</td>\n",
              "      <td>0.035108</td>\n",
              "      <td>2.048142</td>\n",
              "      <td>2098.302663</td>\n",
              "      <td>102.730000</td>\n",
              "      <td>3442.608995</td>\n",
              "    </tr>\n",
              "    <tr>\n",
              "      <th>Mailed Check</th>\n",
              "      <td>43.852113</td>\n",
              "      <td>42.309524</td>\n",
              "      <td>44.696517</td>\n",
              "      <td>26.486726</td>\n",
              "      <td>22.850000</td>\n",
              "      <td>27.880734</td>\n",
              "      <td>25.503305</td>\n",
              "      <td>27.304737</td>\n",
              "      <td>24.695674</td>\n",
              "      <td>36.288946</td>\n",
              "      <td>...</td>\n",
              "      <td>4.129353</td>\n",
              "      <td>153.775634</td>\n",
              "      <td>43.918810</td>\n",
              "      <td>655.070398</td>\n",
              "      <td>0.468592</td>\n",
              "      <td>0.924762</td>\n",
              "      <td>1.723980</td>\n",
              "      <td>635.786268</td>\n",
              "      <td>114.352381</td>\n",
              "      <td>2222.735224</td>\n",
              "    </tr>\n",
              "  </tbody>\n",
              "</table>\n",
              "<p>3 rows × 42 columns</p>\n",
              "</div>\n",
              "      <button class=\"colab-df-convert\" onclick=\"convertToInteractive('df-4bc1f83f-be16-458c-9b0a-f6f3973fab3d')\"\n",
              "              title=\"Convert this dataframe to an interactive table.\"\n",
              "              style=\"display:none;\">\n",
              "        \n",
              "  <svg xmlns=\"http://www.w3.org/2000/svg\" height=\"24px\"viewBox=\"0 0 24 24\"\n",
              "       width=\"24px\">\n",
              "    <path d=\"M0 0h24v24H0V0z\" fill=\"none\"/>\n",
              "    <path d=\"M18.56 5.44l.94 2.06.94-2.06 2.06-.94-2.06-.94-.94-2.06-.94 2.06-2.06.94zm-11 1L8.5 8.5l.94-2.06 2.06-.94-2.06-.94L8.5 2.5l-.94 2.06-2.06.94zm10 10l.94 2.06.94-2.06 2.06-.94-2.06-.94-.94-2.06-.94 2.06-2.06.94z\"/><path d=\"M17.41 7.96l-1.37-1.37c-.4-.4-.92-.59-1.43-.59-.52 0-1.04.2-1.43.59L10.3 9.45l-7.72 7.72c-.78.78-.78 2.05 0 2.83L4 21.41c.39.39.9.59 1.41.59.51 0 1.02-.2 1.41-.59l7.78-7.78 2.81-2.81c.8-.78.8-2.07 0-2.86zM5.41 20L4 18.59l7.72-7.72 1.47 1.35L5.41 20z\"/>\n",
              "  </svg>\n",
              "      </button>\n",
              "      \n",
              "  <style>\n",
              "    .colab-df-container {\n",
              "      display:flex;\n",
              "      flex-wrap:wrap;\n",
              "      gap: 12px;\n",
              "    }\n",
              "\n",
              "    .colab-df-convert {\n",
              "      background-color: #E8F0FE;\n",
              "      border: none;\n",
              "      border-radius: 50%;\n",
              "      cursor: pointer;\n",
              "      display: none;\n",
              "      fill: #1967D2;\n",
              "      height: 32px;\n",
              "      padding: 0 0 0 0;\n",
              "      width: 32px;\n",
              "    }\n",
              "\n",
              "    .colab-df-convert:hover {\n",
              "      background-color: #E2EBFA;\n",
              "      box-shadow: 0px 1px 2px rgba(60, 64, 67, 0.3), 0px 1px 3px 1px rgba(60, 64, 67, 0.15);\n",
              "      fill: #174EA6;\n",
              "    }\n",
              "\n",
              "    [theme=dark] .colab-df-convert {\n",
              "      background-color: #3B4455;\n",
              "      fill: #D2E3FC;\n",
              "    }\n",
              "\n",
              "    [theme=dark] .colab-df-convert:hover {\n",
              "      background-color: #434B5C;\n",
              "      box-shadow: 0px 1px 3px 1px rgba(0, 0, 0, 0.15);\n",
              "      filter: drop-shadow(0px 1px 2px rgba(0, 0, 0, 0.3));\n",
              "      fill: #FFFFFF;\n",
              "    }\n",
              "  </style>\n",
              "\n",
              "      <script>\n",
              "        const buttonEl =\n",
              "          document.querySelector('#df-4bc1f83f-be16-458c-9b0a-f6f3973fab3d button.colab-df-convert');\n",
              "        buttonEl.style.display =\n",
              "          google.colab.kernel.accessAllowed ? 'block' : 'none';\n",
              "\n",
              "        async function convertToInteractive(key) {\n",
              "          const element = document.querySelector('#df-4bc1f83f-be16-458c-9b0a-f6f3973fab3d');\n",
              "          const dataTable =\n",
              "            await google.colab.kernel.invokeFunction('convertToInteractive',\n",
              "                                                     [key], {});\n",
              "          if (!dataTable) return;\n",
              "\n",
              "          const docLinkHtml = 'Like what you see? Visit the ' +\n",
              "            '<a target=\"_blank\" href=https://colab.research.google.com/notebooks/data_table.ipynb>data table notebook</a>'\n",
              "            + ' to learn more about interactive tables.';\n",
              "          element.innerHTML = '';\n",
              "          dataTable['output_type'] = 'display_data';\n",
              "          await google.colab.output.renderOutput(dataTable, element);\n",
              "          const docLink = document.createElement('div');\n",
              "          docLink.innerHTML = docLinkHtml;\n",
              "          element.appendChild(docLink);\n",
              "        }\n",
              "      </script>\n",
              "    </div>\n",
              "  </div>\n",
              "  "
            ]
          },
          "metadata": {},
          "execution_count": 25
        }
      ]
    },
    {
      "cell_type": "code",
      "source": [
        "data_object.drop(['Customer ID', 'Zip Code', 'Churn Category', 'Churn Reason', 'City'], axis = 1, inplace = True)"
      ],
      "metadata": {
        "colab": {
          "base_uri": "https://localhost:8080/"
        },
        "id": "f5v6qMOCCE44",
        "outputId": "5e6b30c0-c96f-43d6-fde7-272d14ce2dd3"
      },
      "execution_count": null,
      "outputs": [
        {
          "output_type": "stream",
          "name": "stderr",
          "text": [
            "/usr/local/lib/python3.8/dist-packages/pandas/core/frame.py:4906: SettingWithCopyWarning: \n",
            "A value is trying to be set on a copy of a slice from a DataFrame\n",
            "\n",
            "See the caveats in the documentation: https://pandas.pydata.org/pandas-docs/stable/user_guide/indexing.html#returning-a-view-versus-a-copy\n",
            "  return super().drop(\n"
          ]
        }
      ]
    },
    {
      "cell_type": "code",
      "source": [
        "fig, axes = plt.subplots(5, 4, figsize = (20,10))\n",
        "for i, col in enumerate(data_object.columns):\n",
        "    sns.countplot(data = data_object, x = col, ax = axes.flat[i], hue = 'Customer Status')"
      ],
      "metadata": {
        "colab": {
          "base_uri": "https://localhost:8080/",
          "height": 444
        },
        "id": "s76sBmj0Bar_",
        "outputId": "a0b8ab31-9c7a-470b-f99a-826e0be41ca3"
      },
      "execution_count": null,
      "outputs": [
        {
          "output_type": "display_data",
          "data": {
            "text/plain": [
              "<Figure size 1440x720 with 20 Axes>"
            ],
            "image/png": "[encoded data removed]"
          },
          "metadata": {
            "needs_background": "light"
          }
        }
      ]
    },
    {
      "cell_type": "markdown",
      "source": [
        "#Data Preprocessing"
      ],
      "metadata": {
        "id": "vNtMLLJvDpgE"
      }
    },
    {
      "cell_type": "markdown",
      "source": [
        "##Model Original"
      ],
      "metadata": {
        "id": "gNLY2bqmAgdA"
      }
    },
    {
      "cell_type": "code",
      "source": [
        "data.isnull().sum()"
      ],
      "metadata": {
        "colab": {
          "base_uri": "https://localhost:8080/"
        },
        "id": "nZEQgDoo4nvJ",
        "outputId": "d4a09a92-a27c-44e3-88cc-a6a69f6cb017"
      },
      "execution_count": null,
      "outputs": [
        {
          "output_type": "execute_result",
          "data": {
            "text/plain": [
              "Customer ID                             0\n",
              "Gender                                  0\n",
              "Age                                     0\n",
              "Married                                 0\n",
              "Number of Dependents                    0\n",
              "City                                    0\n",
              "Zip Code                                0\n",
              "Latitude                                0\n",
              "Longitude                               0\n",
              "Number of Referrals                     0\n",
              "Tenure in Months                        0\n",
              "Offer                                   0\n",
              "Phone Service                           0\n",
              "Avg Monthly Long Distance Charges     682\n",
              "Multiple Lines                        682\n",
              "Internet Service                        0\n",
              "Internet Type                        1526\n",
              "Avg Monthly GB Download              1526\n",
              "Online Security                      1526\n",
              "Online Backup                        1526\n",
              "Device Protection Plan               1526\n",
              "Premium Tech Support                 1526\n",
              "Streaming TV                         1526\n",
              "Streaming Movies                     1526\n",
              "Streaming Music                      1526\n",
              "Unlimited Data                       1526\n",
              "Contract                                0\n",
              "Paperless Billing                       0\n",
              "Payment Method                          0\n",
              "Monthly Charge                          0\n",
              "Total Charges                           0\n",
              "Total Refunds                           0\n",
              "Total Extra Data Charges                0\n",
              "Total Long Distance Charges             0\n",
              "Total Revenue                           0\n",
              "Customer Status                         0\n",
              "Churn Category                       5174\n",
              "Churn Reason                         5174\n",
              "Age Range                               0\n",
              "dtype: int64"
            ]
          },
          "metadata": {},
          "execution_count": 28
        }
      ]
    },
    {
      "cell_type": "markdown",
      "source": [
        "Cần chia luôn tập data ngay từ đầu => Tập Test không bị ảnh hưởng bởi tiến trình xử lý dữ liệu trên tập train tránh hiện tượng Overfit."
      ],
      "metadata": {
        "id": "hJYp_MpV39cJ"
      }
    },
    {
      "cell_type": "code",
      "source": [
        "data.drop(['Customer ID', 'Zip Code',  'City','Zip Code','Latitude','Longitude', 'Churn Category',\t'Churn Reason'], axis = 1, inplace = True)"
      ],
      "metadata": {
        "id": "-CewDtPiF6tU"
      },
      "execution_count": null,
      "outputs": []
    },
    {
      "cell_type": "code",
      "source": [
        "from sklearn.model_selection import train_test_split\n",
        "data_train, data_test = train_test_split(data, test_size=0.33, random_state=42)"
      ],
      "metadata": {
        "id": "Wgfu3z5ckuxE"
      },
      "execution_count": null,
      "outputs": []
    },
    {
      "cell_type": "code",
      "source": [
        "data_train.shape"
      ],
      "metadata": {
        "colab": {
          "base_uri": "https://localhost:8080/"
        },
        "id": "Xgat7mLxheg2",
        "outputId": "2253a0ae-3b62-4897-ea8a-8846263e53e0"
      },
      "execution_count": null,
      "outputs": [
        {
          "output_type": "execute_result",
          "data": {
            "text/plain": [
              "(4718, 32)"
            ]
          },
          "metadata": {},
          "execution_count": 31
        }
      ]
    },
    {
      "cell_type": "code",
      "source": [
        "not_null_col = []\n",
        "for cols in data_train.columns:\n",
        "  if data_train[cols].isnull().sum() <= data.shape[0]*0.25:\n",
        "    not_null_col.append(cols)\n",
        "not_null_col"
      ],
      "metadata": {
        "colab": {
          "base_uri": "https://localhost:8080/"
        },
        "id": "vJ6A2MMZhnTk",
        "outputId": "bfd5226c-3fda-4c1e-d469-6f23f36d67e3"
      },
      "execution_count": null,
      "outputs": [
        {
          "output_type": "execute_result",
          "data": {
            "text/plain": [
              "['Gender',\n",
              " 'Age',\n",
              " 'Married',\n",
              " 'Number of Dependents',\n",
              " 'Number of Referrals',\n",
              " 'Tenure in Months',\n",
              " 'Offer',\n",
              " 'Phone Service',\n",
              " 'Avg Monthly Long Distance Charges',\n",
              " 'Multiple Lines',\n",
              " 'Internet Service',\n",
              " 'Internet Type',\n",
              " 'Avg Monthly GB Download',\n",
              " 'Online Security',\n",
              " 'Online Backup',\n",
              " 'Device Protection Plan',\n",
              " 'Premium Tech Support',\n",
              " 'Streaming TV',\n",
              " 'Streaming Movies',\n",
              " 'Streaming Music',\n",
              " 'Unlimited Data',\n",
              " 'Contract',\n",
              " 'Paperless Billing',\n",
              " 'Payment Method',\n",
              " 'Monthly Charge',\n",
              " 'Total Charges',\n",
              " 'Total Refunds',\n",
              " 'Total Extra Data Charges',\n",
              " 'Total Long Distance Charges',\n",
              " 'Total Revenue',\n",
              " 'Customer Status',\n",
              " 'Age Range']"
            ]
          },
          "metadata": {},
          "execution_count": 32
        }
      ]
    },
    {
      "cell_type": "code",
      "source": [
        "data['Age Range'] = data['Age Range'].astype('object')"
      ],
      "metadata": {
        "id": "1YhXllyARHWp"
      },
      "execution_count": null,
      "outputs": []
    },
    {
      "cell_type": "code",
      "source": [
        "from sklearn.preprocessing import LabelEncoder\n",
        "from sklearn.pipeline import Pipeline\n",
        "from sklearn.compose import ColumnTransformer\n",
        "\n",
        "object_cols = [cols for cols in data.columns if data[cols].dtypes == 'object' and cols in not_null_col]\n",
        "for cols in object_cols:\n",
        "  le = LabelEncoder()\n",
        "  data_train[cols] = le.fit_transform(data_train[cols])\n",
        "  le1 = LabelEncoder()\n",
        "  data_test[cols] = le1.fit_transform(data_test[cols])"
      ],
      "metadata": {
        "id": "jz4b8w0riCeA"
      },
      "execution_count": null,
      "outputs": []
    },
    {
      "cell_type": "code",
      "source": [
        "data_train.head(5)"
      ],
      "metadata": {
        "colab": {
          "base_uri": "https://localhost:8080/",
          "height": 369
        },
        "id": "SOvmbpHSmEo4",
        "outputId": "4f5c734c-8c1c-4add-fc83-f81a11ad6515"
      },
      "execution_count": null,
      "outputs": [
        {
          "output_type": "execute_result",
          "data": {
            "text/plain": [
              "      Gender  Age  Married  Number of Dependents  Number of Referrals  \\\n",
              "298        1   47        1                     0                    1   \n",
              "3318       1   28        0                     0                    0   \n",
              "5586       1   30        1                     0                    7   \n",
              "6654       1   56        1                     0                    4   \n",
              "5362       0   37        0                     0                    0   \n",
              "\n",
              "      Tenure in Months  Offer  Phone Service  \\\n",
              "298                 62      2              1   \n",
              "3318                48      0              1   \n",
              "5586                43      0              1   \n",
              "6654                37      0              1   \n",
              "5362                 2      0              1   \n",
              "\n",
              "      Avg Monthly Long Distance Charges  Multiple Lines  ...  \\\n",
              "298                               33.70               0  ...   \n",
              "3318                               4.15               1  ...   \n",
              "5586                              33.97               1  ...   \n",
              "6654                               6.99               0  ...   \n",
              "5362                              38.28               1  ...   \n",
              "\n",
              "      Paperless Billing  Payment Method  Monthly Charge  Total Charges  \\\n",
              "298                   1               1           60.15        3753.20   \n",
              "3318                  1               0           95.40        4445.30   \n",
              "5586                  1               0           80.20        3581.60   \n",
              "6654                  1               0           90.35        3419.30   \n",
              "5362                  0               1           74.90         147.15   \n",
              "\n",
              "      Total Refunds  Total Extra Data Charges  Total Long Distance Charges  \\\n",
              "298             0.0                         0                      2089.40   \n",
              "3318            0.0                         0                       199.20   \n",
              "5586            0.0                         0                      1460.71   \n",
              "6654            0.0                       150                       258.63   \n",
              "5362            0.0                         0                        76.56   \n",
              "\n",
              "      Total Revenue  Customer Status  Age Range  \n",
              "298         5842.60                2          3  \n",
              "3318        4644.50                2          1  \n",
              "5586        5042.31                2          1  \n",
              "6654        3827.93                2          3  \n",
              "5362         223.71                0          2  \n",
              "\n",
              "[5 rows x 32 columns]"
            ],
            "text/html": [
              "\n",
              "  <div id=\"df-cd173e3e-d435-450d-8ca3-f532040ae96e\">\n",
              "    <div class=\"colab-df-container\">\n",
              "      <div>\n",
              "<style scoped>\n",
              "    .dataframe tbody tr th:only-of-type {\n",
              "        vertical-align: middle;\n",
              "    }\n",
              "\n",
              "    .dataframe tbody tr th {\n",
              "        vertical-align: top;\n",
              "    }\n",
              "\n",
              "    .dataframe thead th {\n",
              "        text-align: right;\n",
              "    }\n",
              "</style>\n",
              "<table border=\"1\" class=\"dataframe\">\n",
              "  <thead>\n",
              "    <tr style=\"text-align: right;\">\n",
              "      <th></th>\n",
              "      <th>Gender</th>\n",
              "      <th>Age</th>\n",
              "      <th>Married</th>\n",
              "      <th>Number of Dependents</th>\n",
              "      <th>Number of Referrals</th>\n",
              "      <th>Tenure in Months</th>\n",
              "      <th>Offer</th>\n",
              "      <th>Phone Service</th>\n",
              "      <th>Avg Monthly Long Distance Charges</th>\n",
              "      <th>Multiple Lines</th>\n",
              "      <th>...</th>\n",
              "      <th>Paperless Billing</th>\n",
              "      <th>Payment Method</th>\n",
              "      <th>Monthly Charge</th>\n",
              "      <th>Total Charges</th>\n",
              "      <th>Total Refunds</th>\n",
              "      <th>Total Extra Data Charges</th>\n",
              "      <th>Total Long Distance Charges</th>\n",
              "      <th>Total Revenue</th>\n",
              "      <th>Customer Status</th>\n",
              "      <th>Age Range</th>\n",
              "    </tr>\n",
              "  </thead>\n",
              "  <tbody>\n",
              "    <tr>\n",
              "      <th>298</th>\n",
              "      <td>1</td>\n",
              "      <td>47</td>\n",
              "      <td>1</td>\n",
              "      <td>0</td>\n",
              "      <td>1</td>\n",
              "      <td>62</td>\n",
              "      <td>2</td>\n",
              "      <td>1</td>\n",
              "      <td>33.70</td>\n",
              "      <td>0</td>\n",
              "      <td>...</td>\n",
              "      <td>1</td>\n",
              "      <td>1</td>\n",
              "      <td>60.15</td>\n",
              "      <td>3753.20</td>\n",
              "      <td>0.0</td>\n",
              "      <td>0</td>\n",
              "      <td>2089.40</td>\n",
              "      <td>5842.60</td>\n",
              "      <td>2</td>\n",
              "      <td>3</td>\n",
              "    </tr>\n",
              "    <tr>\n",
              "      <th>3318</th>\n",
              "      <td>1</td>\n",
              "      <td>28</td>\n",
              "      <td>0</td>\n",
              "      <td>0</td>\n",
              "      <td>0</td>\n",
              "      <td>48</td>\n",
              "      <td>0</td>\n",
              "      <td>1</td>\n",
              "      <td>4.15</td>\n",
              "      <td>1</td>\n",
              "      <td>...</td>\n",
              "      <td>1</td>\n",
              "      <td>0</td>\n",
              "      <td>95.40</td>\n",
              "      <td>4445.30</td>\n",
              "      <td>0.0</td>\n",
              "      <td>0</td>\n",
              "      <td>199.20</td>\n",
              "      <td>4644.50</td>\n",
              "      <td>2</td>\n",
              "      <td>1</td>\n",
              "    </tr>\n",
              "    <tr>\n",
              "      <th>5586</th>\n",
              "      <td>1</td>\n",
              "      <td>30</td>\n",
              "      <td>1</td>\n",
              "      <td>0</td>\n",
              "      <td>7</td>\n",
              "      <td>43</td>\n",
              "      <td>0</td>\n",
              "      <td>1</td>\n",
              "      <td>33.97</td>\n",
              "      <td>1</td>\n",
              "      <td>...</td>\n",
              "      <td>1</td>\n",
              "      <td>0</td>\n",
              "      <td>80.20</td>\n",
              "      <td>3581.60</td>\n",
              "      <td>0.0</td>\n",
              "      <td>0</td>\n",
              "      <td>1460.71</td>\n",
              "      <td>5042.31</td>\n",
              "      <td>2</td>\n",
              "      <td>1</td>\n",
              "    </tr>\n",
              "    <tr>\n",
              "      <th>6654</th>\n",
              "      <td>1</td>\n",
              "      <td>56</td>\n",
              "      <td>1</td>\n",
              "      <td>0</td>\n",
              "      <td>4</td>\n",
              "      <td>37</td>\n",
              "      <td>0</td>\n",
              "      <td>1</td>\n",
              "      <td>6.99</td>\n",
              "      <td>0</td>\n",
              "      <td>...</td>\n",
              "      <td>1</td>\n",
              "      <td>0</td>\n",
              "      <td>90.35</td>\n",
              "      <td>3419.30</td>\n",
              "      <td>0.0</td>\n",
              "      <td>150</td>\n",
              "      <td>258.63</td>\n",
              "      <td>3827.93</td>\n",
              "      <td>2</td>\n",
              "      <td>3</td>\n",
              "    </tr>\n",
              "    <tr>\n",
              "      <th>5362</th>\n",
              "      <td>0</td>\n",
              "      <td>37</td>\n",
              "      <td>0</td>\n",
              "      <td>0</td>\n",
              "      <td>0</td>\n",
              "      <td>2</td>\n",
              "      <td>0</td>\n",
              "      <td>1</td>\n",
              "      <td>38.28</td>\n",
              "      <td>1</td>\n",
              "      <td>...</td>\n",
              "      <td>0</td>\n",
              "      <td>1</td>\n",
              "      <td>74.90</td>\n",
              "      <td>147.15</td>\n",
              "      <td>0.0</td>\n",
              "      <td>0</td>\n",
              "      <td>76.56</td>\n",
              "      <td>223.71</td>\n",
              "      <td>0</td>\n",
              "      <td>2</td>\n",
              "    </tr>\n",
              "  </tbody>\n",
              "</table>\n",
              "<p>5 rows × 32 columns</p>\n",
              "</div>\n",
              "      <button class=\"colab-df-convert\" onclick=\"convertToInteractive('df-cd173e3e-d435-450d-8ca3-f532040ae96e')\"\n",
              "              title=\"Convert this dataframe to an interactive table.\"\n",
              "              style=\"display:none;\">\n",
              "        \n",
              "  <svg xmlns=\"http://www.w3.org/2000/svg\" height=\"24px\"viewBox=\"0 0 24 24\"\n",
              "       width=\"24px\">\n",
              "    <path d=\"M0 0h24v24H0V0z\" fill=\"none\"/>\n",
              "    <path d=\"M18.56 5.44l.94 2.06.94-2.06 2.06-.94-2.06-.94-.94-2.06-.94 2.06-2.06.94zm-11 1L8.5 8.5l.94-2.06 2.06-.94-2.06-.94L8.5 2.5l-.94 2.06-2.06.94zm10 10l.94 2.06.94-2.06 2.06-.94-2.06-.94-.94-2.06-.94 2.06-2.06.94z\"/><path d=\"M17.41 7.96l-1.37-1.37c-.4-.4-.92-.59-1.43-.59-.52 0-1.04.2-1.43.59L10.3 9.45l-7.72 7.72c-.78.78-.78 2.05 0 2.83L4 21.41c.39.39.9.59 1.41.59.51 0 1.02-.2 1.41-.59l7.78-7.78 2.81-2.81c.8-.78.8-2.07 0-2.86zM5.41 20L4 18.59l7.72-7.72 1.47 1.35L5.41 20z\"/>\n",
              "  </svg>\n",
              "      </button>\n",
              "      \n",
              "  <style>\n",
              "    .colab-df-container {\n",
              "      display:flex;\n",
              "      flex-wrap:wrap;\n",
              "      gap: 12px;\n",
              "    }\n",
              "\n",
              "    .colab-df-convert {\n",
              "      background-color: #E8F0FE;\n",
              "      border: none;\n",
              "      border-radius: 50%;\n",
              "      cursor: pointer;\n",
              "      display: none;\n",
              "      fill: #1967D2;\n",
              "      height: 32px;\n",
              "      padding: 0 0 0 0;\n",
              "      width: 32px;\n",
              "    }\n",
              "\n",
              "    .colab-df-convert:hover {\n",
              "      background-color: #E2EBFA;\n",
              "      box-shadow: 0px 1px 2px rgba(60, 64, 67, 0.3), 0px 1px 3px 1px rgba(60, 64, 67, 0.15);\n",
              "      fill: #174EA6;\n",
              "    }\n",
              "\n",
              "    [theme=dark] .colab-df-convert {\n",
              "      background-color: #3B4455;\n",
              "      fill: #D2E3FC;\n",
              "    }\n",
              "\n",
              "    [theme=dark] .colab-df-convert:hover {\n",
              "      background-color: #434B5C;\n",
              "      box-shadow: 0px 1px 3px 1px rgba(0, 0, 0, 0.15);\n",
              "      filter: drop-shadow(0px 1px 2px rgba(0, 0, 0, 0.3));\n",
              "      fill: #FFFFFF;\n",
              "    }\n",
              "  </style>\n",
              "\n",
              "      <script>\n",
              "        const buttonEl =\n",
              "          document.querySelector('#df-cd173e3e-d435-450d-8ca3-f532040ae96e button.colab-df-convert');\n",
              "        buttonEl.style.display =\n",
              "          google.colab.kernel.accessAllowed ? 'block' : 'none';\n",
              "\n",
              "        async function convertToInteractive(key) {\n",
              "          const element = document.querySelector('#df-cd173e3e-d435-450d-8ca3-f532040ae96e');\n",
              "          const dataTable =\n",
              "            await google.colab.kernel.invokeFunction('convertToInteractive',\n",
              "                                                     [key], {});\n",
              "          if (!dataTable) return;\n",
              "\n",
              "          const docLinkHtml = 'Like what you see? Visit the ' +\n",
              "            '<a target=\"_blank\" href=https://colab.research.google.com/notebooks/data_table.ipynb>data table notebook</a>'\n",
              "            + ' to learn more about interactive tables.';\n",
              "          element.innerHTML = '';\n",
              "          dataTable['output_type'] = 'display_data';\n",
              "          await google.colab.output.renderOutput(dataTable, element);\n",
              "          const docLink = document.createElement('div');\n",
              "          docLink.innerHTML = docLinkHtml;\n",
              "          element.appendChild(docLink);\n",
              "        }\n",
              "      </script>\n",
              "    </div>\n",
              "  </div>\n",
              "  "
            ]
          },
          "metadata": {},
          "execution_count": 35
        }
      ]
    },
    {
      "cell_type": "markdown",
      "source": [
        "Thử với full bộ dữ liệu trước khi preprocessing => Nhằm mục đích xem quá trình xử lý data có làm overfitting hay không"
      ],
      "metadata": {
        "id": "ftIiUR3z8Qfr"
      }
    },
    {
      "cell_type": "code",
      "source": [
        "data_train.fillna(-1, inplace = True)\n",
        "data_test.fillna(-1, inplace = True)"
      ],
      "metadata": {
        "id": "a220uUmplzTZ"
      },
      "execution_count": null,
      "outputs": []
    },
    {
      "cell_type": "code",
      "source": [
        "y = data_train['Customer Status']\n",
        "X = data_train.drop(['Customer Status'], axis = 1).values"
      ],
      "metadata": {
        "id": "yg5budr-IAbX"
      },
      "execution_count": null,
      "outputs": []
    },
    {
      "cell_type": "code",
      "source": [
        "from sklearn.model_selection import train_test_split\n",
        "X_train, X_val, y_train, y_val = train_test_split(X, y, test_size=0.33, random_state=42)"
      ],
      "metadata": {
        "id": "ldjs_n53ngWy"
      },
      "execution_count": null,
      "outputs": []
    },
    {
      "cell_type": "code",
      "source": [
        "from sklearn.ensemble import RandomForestClassifier\n",
        "rf = RandomForestClassifier()\n",
        "rf.fit(X_train, y_train)"
      ],
      "metadata": {
        "id": "_JeCwFtolsoT",
        "colab": {
          "base_uri": "https://localhost:8080/"
        },
        "outputId": "6e9e9f19-f61d-4233-a6ce-2e58bdb5ac2c"
      },
      "execution_count": null,
      "outputs": [
        {
          "output_type": "execute_result",
          "data": {
            "text/plain": [
              "RandomForestClassifier()"
            ]
          },
          "metadata": {},
          "execution_count": 39
        }
      ]
    },
    {
      "cell_type": "code",
      "source": [
        "from sklearn.metrics import classification_report\n",
        "print(classification_report( y_true= y_val, y_pred = rf.predict(X_val)))"
      ],
      "metadata": {
        "id": "W-SeOqeYmytO",
        "colab": {
          "base_uri": "https://localhost:8080/"
        },
        "outputId": "ec005553-e6ce-4736-e2ad-71ce616b91be"
      },
      "execution_count": null,
      "outputs": [
        {
          "output_type": "stream",
          "name": "stdout",
          "text": [
            "              precision    recall  f1-score   support\n",
            "\n",
            "           0       0.73      0.60      0.66       417\n",
            "           1       0.72      0.59      0.65       104\n",
            "           2       0.88      0.95      0.91      1036\n",
            "\n",
            "    accuracy                           0.83      1557\n",
            "   macro avg       0.78      0.71      0.74      1557\n",
            "weighted avg       0.83      0.83      0.83      1557\n",
            "\n"
          ]
        }
      ]
    },
    {
      "cell_type": "code",
      "source": [
        "y_test = data_test['Customer Status']\n",
        "X_test = data_test.drop(['Customer Status'], axis = 1).values"
      ],
      "metadata": {
        "id": "1jdMLcgPIkGc"
      },
      "execution_count": null,
      "outputs": []
    },
    {
      "cell_type": "code",
      "source": [
        "from sklearn.metrics import classification_report\n",
        "print(classification_report( y_true= y_test, y_pred = rf.predict(X_test)))"
      ],
      "metadata": {
        "colab": {
          "base_uri": "https://localhost:8080/"
        },
        "id": "nHCawcz3Itx7",
        "outputId": "e21464b1-2fb0-4288-f3ec-cd10eedfe448"
      },
      "execution_count": null,
      "outputs": [
        {
          "output_type": "stream",
          "name": "stdout",
          "text": [
            "              precision    recall  f1-score   support\n",
            "\n",
            "           0       0.71      0.60      0.65       610\n",
            "           1       0.73      0.59      0.65       167\n",
            "           2       0.88      0.95      0.91      1548\n",
            "\n",
            "    accuracy                           0.83      2325\n",
            "   macro avg       0.77      0.71      0.74      2325\n",
            "weighted avg       0.82      0.83      0.82      2325\n",
            "\n"
          ]
        }
      ]
    },
    {
      "cell_type": "markdown",
      "source": [
        "##Feture Selection"
      ],
      "metadata": {
        "id": "kpub_hjTJSUO"
      }
    },
    {
      "cell_type": "markdown",
      "source": [
        "Sử dụng các phương pháp thống kê ANOVA cho biến numeric và Chi Square cho biến Categorical"
      ],
      "metadata": {
        "id": "qcjc90PdJWnj"
      }
    },
    {
      "cell_type": "markdown",
      "source": [
        "### Numeric"
      ],
      "metadata": {
        "id": "osyWdAVAKX8C"
      }
    },
    {
      "cell_type": "markdown",
      "source": [
        "Analysis of variance(ANOVA) is performed to check if there is any relationship between the given continuous and categorical variable\n",
        "\n",
        "Assumption(H0): There is NO relation between the given variables (i.e. The average(mean) values of the numeric Predictor variable is same for all the groups in the categorical Target variable)\n",
        "ANOVA Test result: Probability of H0 being true"
      ],
      "metadata": {
        "id": "PSFvl-KtKaSG"
      }
    },
    {
      "cell_type": "code",
      "source": [
        "# Defining a function to find the statistical relationship with all the categorical variables\n",
        "def FunctionAnova(inpData, TargetVariable, ContinuousPredictorList):\n",
        "    from scipy.stats import f_oneway\n",
        "\n",
        "    # Creating an empty list of final selected predictors\n",
        "    SelectedPredictors=[]\n",
        "\n",
        "    print('##### ANOVA Results ##### \\n')\n",
        "    for predictor in ContinuousPredictorList:\n",
        "        CategoryGroupLists=inpData.groupby(TargetVariable)[predictor].apply(list)\n",
        "        AnovaResults = f_oneway(*CategoryGroupLists)\n",
        "\n",
        "        # If the ANOVA P-Value is <0.05, that means we reject H0\n",
        "        if (AnovaResults[1] < 0.05):\n",
        "            print(predictor, 'is correlated with', TargetVariable, '| P-Value:', AnovaResults[1])\n",
        "            SelectedPredictors.append(predictor)\n",
        "        else:\n",
        "            print(predictor, 'is NOT correlated with', TargetVariable, '| P-Value:', AnovaResults[1])\n",
        "\n",
        "    return(SelectedPredictors)"
      ],
      "metadata": {
        "id": "DEbfiUj8Izcs"
      },
      "execution_count": null,
      "outputs": []
    },
    {
      "cell_type": "code",
      "source": [
        "data.fillna(-1, inplace = True)"
      ],
      "metadata": {
        "id": "18S7aieqLsM-"
      },
      "execution_count": null,
      "outputs": []
    },
    {
      "cell_type": "code",
      "source": [
        "# Calling the function to check which categorical variables are correlated with target\n",
        "ContinuousVariables=data.select_dtypes('number').columns\n",
        "Numeric_Col = FunctionAnova(inpData=data, TargetVariable='Customer Status', ContinuousPredictorList=ContinuousVariables)"
      ],
      "metadata": {
        "colab": {
          "base_uri": "https://localhost:8080/"
        },
        "id": "w6oaGtbkLPr8",
        "outputId": "7975c609-6caf-4e29-dc4f-6f7601848682"
      },
      "execution_count": null,
      "outputs": [
        {
          "output_type": "stream",
          "name": "stdout",
          "text": [
            "##### ANOVA Results ##### \n",
            "\n",
            "Age is correlated with Customer Status | P-Value: 9.656609593485151e-24\n",
            "Number of Dependents is correlated with Customer Status | P-Value: 1.9913334802910904e-82\n",
            "Number of Referrals is correlated with Customer Status | P-Value: 3.6640367721492714e-162\n",
            "Tenure in Months is correlated with Customer Status | P-Value: 0.0\n",
            "Avg Monthly Long Distance Charges is NOT correlated with Customer Status | P-Value: 0.5656208581656248\n",
            "Avg Monthly GB Download is correlated with Customer Status | P-Value: 8.391590651454324e-11\n",
            "Monthly Charge is correlated with Customer Status | P-Value: 1.932335419916865e-90\n",
            "Total Charges is correlated with Customer Status | P-Value: 3.3906406388092618e-202\n",
            "Total Refunds is correlated with Customer Status | P-Value: 1.2725422587833355e-08\n",
            "Total Extra Data Charges is correlated with Customer Status | P-Value: 0.0004351746043725726\n",
            "Total Long Distance Charges is correlated with Customer Status | P-Value: 3.4598155752299394e-191\n",
            "Total Revenue is correlated with Customer Status | P-Value: 2.2889143038084267e-237\n"
          ]
        }
      ]
    },
    {
      "cell_type": "markdown",
      "source": [
        "###Categorical"
      ],
      "metadata": {
        "id": "KyxQOki6Od8S"
      }
    },
    {
      "cell_type": "code",
      "source": [
        "# Writing a function to find the correlation of all categorical variables with the Target variable\n",
        "def FunctionChisq(inpData, TargetVariable, CategoricalVariablesList):\n",
        "    from scipy.stats import chi2_contingency\n",
        "\n",
        "    # Creating an empty list of final selected predictors\n",
        "    SelectedPredictors=[]\n",
        "\n",
        "    for predictor in CategoricalVariablesList:\n",
        "        CrossTabResult=pd.crosstab(index=inpData[TargetVariable], columns=inpData[predictor])\n",
        "        ChiSqResult = chi2_contingency(CrossTabResult)\n",
        "\n",
        "        # If the ChiSq P-Value is <0.05, that means we reject H0\n",
        "        if (ChiSqResult[1] < 0.05):\n",
        "            print(predictor, 'is correlated with', TargetVariable, '| P-Value:', ChiSqResult[1])\n",
        "            SelectedPredictors.append(predictor)\n",
        "        else:\n",
        "            print(predictor, 'is NOT correlated with', TargetVariable, '| P-Value:', ChiSqResult[1])\n",
        "\n",
        "    return(SelectedPredictors)"
      ],
      "metadata": {
        "id": "-47dAN8HLx5i"
      },
      "execution_count": null,
      "outputs": []
    },
    {
      "cell_type": "code",
      "source": [
        "CategoricalVariables=data.select_dtypes('object').columns\n",
        "\n",
        "# Calling the function\n",
        "Categorical_Col = FunctionChisq(inpData=data,\n",
        "              TargetVariable='Customer Status',\n",
        "              CategoricalVariablesList= CategoricalVariables)"
      ],
      "metadata": {
        "colab": {
          "base_uri": "https://localhost:8080/"
        },
        "id": "qkio8RqCMsHK",
        "outputId": "73406707-028a-4c0e-809e-127eb4bfa57a"
      },
      "execution_count": null,
      "outputs": [
        {
          "output_type": "stream",
          "name": "stdout",
          "text": [
            "Gender is NOT correlated with Customer Status | P-Value: 0.35490117109455394\n",
            "Married is correlated with Customer Status | P-Value: 2.5743649669241746e-86\n",
            "Offer is correlated with Customer Status | P-Value: 6.982366892336427e-236\n",
            "Phone Service is NOT correlated with Customer Status | P-Value: 0.3121079709316997\n",
            "Multiple Lines is correlated with Customer Status | P-Value: 5.445202799061751e-50\n",
            "Internet Service is correlated with Customer Status | P-Value: 1.5019165169876657e-90\n",
            "Internet Type is correlated with Customer Status | P-Value: 5.133221927079805e-150\n",
            "Online Security is correlated with Customer Status | P-Value: 2.234136324796994e-213\n",
            "Online Backup is correlated with Customer Status | P-Value: 4.0053009165391e-160\n",
            "Device Protection Plan is correlated with Customer Status | P-Value: 4.664868566135688e-161\n",
            "Premium Tech Support is correlated with Customer Status | P-Value: 2.3063752041570836e-208\n",
            "Streaming TV is correlated with Customer Status | P-Value: 5.2372557984233096e-111\n",
            "Streaming Movies is correlated with Customer Status | P-Value: 4.5239794295311e-112\n",
            "Streaming Music is correlated with Customer Status | P-Value: 3.3254812523285434e-107\n",
            "Unlimited Data is correlated with Customer Status | P-Value: 5.626941433085528e-89\n",
            "Contract is correlated with Customer Status | P-Value: 0.0\n",
            "Paperless Billing is correlated with Customer Status | P-Value: 1.261394906561754e-61\n",
            "Payment Method is correlated with Customer Status | P-Value: 1.1038755268241735e-78\n",
            "Customer Status is correlated with Customer Status | P-Value: 0.0\n",
            "Age Range is correlated with Customer Status | P-Value: 4.016426330975245e-24\n"
          ]
        }
      ]
    },
    {
      "cell_type": "code",
      "source": [
        "final_col = list(set(Categorical_Col + Numeric_Col + not_null_col))\n",
        "y_train = data_train['Customer Status']\n",
        "X_train = data_train.drop(['Customer Status'], axis = 1).values\n",
        "y_test = data_test['Customer Status']\n",
        "X_test = data_test.drop(['Customer Status'], axis = 1).values"
      ],
      "metadata": {
        "id": "h_oJxvgdOQNx"
      },
      "execution_count": null,
      "outputs": []
    },
    {
      "cell_type": "markdown",
      "source": [
        "#Model"
      ],
      "metadata": {
        "id": "_pP2CLakR7m0"
      }
    },
    {
      "cell_type": "markdown",
      "source": [
        "##Random Forest"
      ],
      "metadata": {
        "id": "N7RHBEOkR-9G"
      }
    },
    {
      "cell_type": "code",
      "source": [
        "rfnew = RandomForestClassifier()\n",
        "rfnew.fit(X_train, y_train)\n",
        "print(classification_report(y_true= y_test, y_pred = rf.predict(X_test)))"
      ],
      "metadata": {
        "colab": {
          "base_uri": "https://localhost:8080/"
        },
        "id": "VTW59xQcR-RA",
        "outputId": "4bed065d-8e9d-4fd3-b4ab-0d3d94062bfb"
      },
      "execution_count": null,
      "outputs": [
        {
          "output_type": "stream",
          "name": "stdout",
          "text": [
            "              precision    recall  f1-score   support\n",
            "\n",
            "           0       0.71      0.60      0.65       610\n",
            "           1       0.73      0.59      0.65       167\n",
            "           2       0.88      0.95      0.91      1548\n",
            "\n",
            "    accuracy                           0.83      2325\n",
            "   macro avg       0.77      0.71      0.74      2325\n",
            "weighted avg       0.82      0.83      0.82      2325\n",
            "\n"
          ]
        }
      ]
    },
    {
      "cell_type": "markdown",
      "source": [
        "##XGBoost"
      ],
      "metadata": {
        "id": "ERFd-5MpSCAD"
      }
    },
    {
      "cell_type": "code",
      "source": [
        "import xgboost as xgb\n",
        "xgb_model = xgb.XGBClassifier(objective=\"multi:softprob\", random_state=42)\n",
        "xgb_model.fit(X_train, y_train)"
      ],
      "metadata": {
        "colab": {
          "base_uri": "https://localhost:8080/"
        },
        "id": "jFt3JgEwU0Qq",
        "outputId": "641dd076-e0f9-4a25-caa4-540382600fc7"
      },
      "execution_count": null,
      "outputs": [
        {
          "output_type": "execute_result",
          "data": {
            "text/plain": [
              "XGBClassifier(objective='multi:softprob', random_state=42)"
            ]
          },
          "metadata": {},
          "execution_count": 50
        }
      ]
    },
    {
      "cell_type": "code",
      "source": [
        "print(classification_report(y_true= y_test, y_pred = xgb_model.predict(X_test)))"
      ],
      "metadata": {
        "colab": {
          "base_uri": "https://localhost:8080/"
        },
        "id": "lGzIaCf3WeGs",
        "outputId": "11f03dd1-8fe6-4ad0-b14a-582387977117"
      },
      "execution_count": null,
      "outputs": [
        {
          "output_type": "stream",
          "name": "stdout",
          "text": [
            "              precision    recall  f1-score   support\n",
            "\n",
            "           0       0.72      0.65      0.69       610\n",
            "           1       0.75      0.62      0.68       167\n",
            "           2       0.89      0.94      0.92      1548\n",
            "\n",
            "    accuracy                           0.84      2325\n",
            "   macro avg       0.79      0.74      0.76      2325\n",
            "weighted avg       0.84      0.84      0.84      2325\n",
            "\n"
          ]
        }
      ]
    },
    {
      "cell_type": "markdown",
      "source": [
        "##CatBoost"
      ],
      "metadata": {
        "id": "g0ae77KuSD9E"
      }
    },
    {
      "cell_type": "code",
      "source": [
        "!pip install catboost"
      ],
      "metadata": {
        "colab": {
          "base_uri": "https://localhost:8080/"
        },
        "id": "b89S6bTgYokv",
        "outputId": "c6a3c2d3-96ed-4bb8-b032-e0123d50c2d7"
      },
      "execution_count": null,
      "outputs": [
        {
          "output_type": "stream",
          "name": "stdout",
          "text": [
            "Looking in indexes: https://pypi.org/simple, https://us-python.pkg.dev/colab-wheels/public/simple/\n",
            "Requirement already satisfied: catboost in /usr/local/lib/python3.8/dist-packages (1.1.1)\n",
            "Requirement already satisfied: numpy>=1.16.0 in /usr/local/lib/python3.8/dist-packages (from catboost) (1.21.6)\n",
            "Requirement already satisfied: six in /usr/local/lib/python3.8/dist-packages (from catboost) (1.15.0)\n",
            "Requirement already satisfied: plotly in /usr/local/lib/python3.8/dist-packages (from catboost) (5.5.0)\n",
            "Requirement already satisfied: pandas>=0.24.0 in /usr/local/lib/python3.8/dist-packages (from catboost) (1.3.5)\n",
            "Requirement already satisfied: matplotlib in /usr/local/lib/python3.8/dist-packages (from catboost) (3.2.2)\n",
            "Requirement already satisfied: graphviz in /usr/local/lib/python3.8/dist-packages (from catboost) (0.10.1)\n",
            "Requirement already satisfied: scipy in /usr/local/lib/python3.8/dist-packages (from catboost) (1.7.3)\n",
            "Requirement already satisfied: pytz>=2017.3 in /usr/local/lib/python3.8/dist-packages (from pandas>=0.24.0->catboost) (2022.7)\n",
            "Requirement already satisfied: python-dateutil>=2.7.3 in /usr/local/lib/python3.8/dist-packages (from pandas>=0.24.0->catboost) (2.8.2)\n",
            "Requirement already satisfied: cycler>=0.10 in /usr/local/lib/python3.8/dist-packages (from matplotlib->catboost) (0.11.0)\n",
            "Requirement already satisfied: kiwisolver>=1.0.1 in /usr/local/lib/python3.8/dist-packages (from matplotlib->catboost) (1.4.4)\n",
            "Requirement already satisfied: pyparsing!=2.0.4,!=2.1.2,!=2.1.6,>=2.0.1 in /usr/local/lib/python3.8/dist-packages (from matplotlib->catboost) (3.0.9)\n",
            "Requirement already satisfied: tenacity>=6.2.0 in /usr/local/lib/python3.8/dist-packages (from plotly->catboost) (8.1.0)\n"
          ]
        }
      ]
    },
    {
      "cell_type": "code",
      "source": [
        "from catboost import CatBoostClassifier\n",
        "\n",
        "clf = CatBoostClassifier(\n",
        "    iterations=50,\n",
        "#     verbose=5,\n",
        ")\n",
        "\n",
        "clf.fit(\n",
        "    X_train, y_train,\n",
        "    eval_set=(X_test, y_test)\n",
        ")"
      ],
      "metadata": {
        "colab": {
          "base_uri": "https://localhost:8080/"
        },
        "id": "JDkdz0bAXKyH",
        "outputId": "b9b61204-adfd-47af-e6f3-3bcdbabebdfe"
      },
      "execution_count": null,
      "outputs": [
        {
          "output_type": "stream",
          "name": "stdout",
          "text": [
            "Learning rate set to 0.349781\n",
            "0:\tlearn: 0.7731701\ttest: 0.7875530\tbest: 0.7875530 (0)\ttotal: 55.6ms\tremaining: 2.72s\n",
            "1:\tlearn: 0.6254710\ttest: 0.6429004\tbest: 0.6429004 (1)\ttotal: 61.7ms\tremaining: 1.48s\n",
            "2:\tlearn: 0.5389279\ttest: 0.5620200\tbest: 0.5620200 (2)\ttotal: 67.6ms\tremaining: 1.06s\n",
            "3:\tlearn: 0.4866540\ttest: 0.5139622\tbest: 0.5139622 (3)\ttotal: 75.1ms\tremaining: 863ms\n",
            "4:\tlearn: 0.4495222\ttest: 0.4782365\tbest: 0.4782365 (4)\ttotal: 80.7ms\tremaining: 727ms\n",
            "5:\tlearn: 0.4204008\ttest: 0.4509650\tbest: 0.4509650 (5)\ttotal: 86.5ms\tremaining: 634ms\n",
            "6:\tlearn: 0.3970353\ttest: 0.4280197\tbest: 0.4280197 (6)\ttotal: 92.1ms\tremaining: 566ms\n",
            "7:\tlearn: 0.3859642\ttest: 0.4192442\tbest: 0.4192442 (7)\ttotal: 98ms\tremaining: 515ms\n",
            "8:\tlearn: 0.3712870\ttest: 0.4065970\tbest: 0.4065970 (8)\ttotal: 104ms\tremaining: 474ms\n",
            "9:\tlearn: 0.3638633\ttest: 0.4022096\tbest: 0.4022096 (9)\ttotal: 111ms\tremaining: 446ms\n",
            "10:\tlearn: 0.3511095\ttest: 0.3912854\tbest: 0.3912854 (10)\ttotal: 118ms\tremaining: 417ms\n",
            "11:\tlearn: 0.3433495\ttest: 0.3858259\tbest: 0.3858259 (11)\ttotal: 124ms\tremaining: 391ms\n",
            "12:\tlearn: 0.3400728\ttest: 0.3841145\tbest: 0.3841145 (12)\ttotal: 128ms\tremaining: 364ms\n",
            "13:\tlearn: 0.3346619\ttest: 0.3804478\tbest: 0.3804478 (13)\ttotal: 134ms\tremaining: 344ms\n",
            "14:\tlearn: 0.3306355\ttest: 0.3780739\tbest: 0.3780739 (14)\ttotal: 140ms\tremaining: 326ms\n",
            "15:\tlearn: 0.3254785\ttest: 0.3756641\tbest: 0.3756641 (15)\ttotal: 146ms\tremaining: 310ms\n",
            "16:\tlearn: 0.3209933\ttest: 0.3722114\tbest: 0.3722114 (16)\ttotal: 154ms\tremaining: 298ms\n",
            "17:\tlearn: 0.3190527\ttest: 0.3725241\tbest: 0.3722114 (16)\ttotal: 160ms\tremaining: 284ms\n",
            "18:\tlearn: 0.3172101\ttest: 0.3717497\tbest: 0.3717497 (18)\ttotal: 166ms\tremaining: 271ms\n",
            "19:\tlearn: 0.3153781\ttest: 0.3703242\tbest: 0.3703242 (19)\ttotal: 172ms\tremaining: 258ms\n",
            "20:\tlearn: 0.3132354\ttest: 0.3690539\tbest: 0.3690539 (20)\ttotal: 178ms\tremaining: 246ms\n",
            "21:\tlearn: 0.3094143\ttest: 0.3654315\tbest: 0.3654315 (21)\ttotal: 184ms\tremaining: 235ms\n",
            "22:\tlearn: 0.3059585\ttest: 0.3651544\tbest: 0.3651544 (22)\ttotal: 195ms\tremaining: 229ms\n",
            "23:\tlearn: 0.3033332\ttest: 0.3646772\tbest: 0.3646772 (23)\ttotal: 209ms\tremaining: 227ms\n",
            "24:\tlearn: 0.3008753\ttest: 0.3654165\tbest: 0.3646772 (23)\ttotal: 215ms\tremaining: 215ms\n",
            "25:\tlearn: 0.2992872\ttest: 0.3655726\tbest: 0.3646772 (23)\ttotal: 221ms\tremaining: 204ms\n",
            "26:\tlearn: 0.2960068\ttest: 0.3657334\tbest: 0.3646772 (23)\ttotal: 227ms\tremaining: 194ms\n",
            "27:\tlearn: 0.2922300\ttest: 0.3642671\tbest: 0.3642671 (27)\ttotal: 235ms\tremaining: 184ms\n",
            "28:\tlearn: 0.2878285\ttest: 0.3615253\tbest: 0.3615253 (28)\ttotal: 241ms\tremaining: 174ms\n",
            "29:\tlearn: 0.2859589\ttest: 0.3612082\tbest: 0.3612082 (29)\ttotal: 247ms\tremaining: 165ms\n",
            "30:\tlearn: 0.2832068\ttest: 0.3618047\tbest: 0.3612082 (29)\ttotal: 253ms\tremaining: 155ms\n",
            "31:\tlearn: 0.2815312\ttest: 0.3615441\tbest: 0.3612082 (29)\ttotal: 259ms\tremaining: 146ms\n",
            "32:\tlearn: 0.2794697\ttest: 0.3606222\tbest: 0.3606222 (32)\ttotal: 265ms\tremaining: 136ms\n",
            "33:\tlearn: 0.2778065\ttest: 0.3612123\tbest: 0.3606222 (32)\ttotal: 272ms\tremaining: 128ms\n",
            "34:\tlearn: 0.2763126\ttest: 0.3599422\tbest: 0.3599422 (34)\ttotal: 278ms\tremaining: 119ms\n",
            "35:\tlearn: 0.2747158\ttest: 0.3604863\tbest: 0.3599422 (34)\ttotal: 285ms\tremaining: 111ms\n",
            "36:\tlearn: 0.2732653\ttest: 0.3612725\tbest: 0.3599422 (34)\ttotal: 291ms\tremaining: 102ms\n",
            "37:\tlearn: 0.2716609\ttest: 0.3616193\tbest: 0.3599422 (34)\ttotal: 297ms\tremaining: 93.8ms\n",
            "38:\tlearn: 0.2705733\ttest: 0.3619545\tbest: 0.3599422 (34)\ttotal: 304ms\tremaining: 85.8ms\n",
            "39:\tlearn: 0.2684072\ttest: 0.3626091\tbest: 0.3599422 (34)\ttotal: 311ms\tremaining: 77.6ms\n",
            "40:\tlearn: 0.2667551\ttest: 0.3613892\tbest: 0.3599422 (34)\ttotal: 316ms\tremaining: 69.4ms\n",
            "41:\tlearn: 0.2659936\ttest: 0.3621476\tbest: 0.3599422 (34)\ttotal: 322ms\tremaining: 61.2ms\n",
            "42:\tlearn: 0.2646202\ttest: 0.3630770\tbest: 0.3599422 (34)\ttotal: 329ms\tremaining: 53.5ms\n",
            "43:\tlearn: 0.2630231\ttest: 0.3637876\tbest: 0.3599422 (34)\ttotal: 335ms\tremaining: 45.7ms\n",
            "44:\tlearn: 0.2609915\ttest: 0.3640414\tbest: 0.3599422 (34)\ttotal: 341ms\tremaining: 37.9ms\n",
            "45:\tlearn: 0.2594907\ttest: 0.3648189\tbest: 0.3599422 (34)\ttotal: 348ms\tremaining: 30.2ms\n",
            "46:\tlearn: 0.2587563\ttest: 0.3649981\tbest: 0.3599422 (34)\ttotal: 354ms\tremaining: 22.6ms\n",
            "47:\tlearn: 0.2564613\ttest: 0.3654815\tbest: 0.3599422 (34)\ttotal: 360ms\tremaining: 15ms\n",
            "48:\tlearn: 0.2550986\ttest: 0.3656079\tbest: 0.3599422 (34)\ttotal: 371ms\tremaining: 7.57ms\n",
            "49:\tlearn: 0.2540068\ttest: 0.3664040\tbest: 0.3599422 (34)\ttotal: 377ms\tremaining: 0us\n",
            "\n",
            "bestTest = 0.3599421692\n",
            "bestIteration = 34\n",
            "\n",
            "Shrink model to first 35 iterations.\n"
          ]
        },
        {
          "output_type": "execute_result",
          "data": {
            "text/plain": [
              "<catboost.core.CatBoostClassifier at 0x7fdc81ed5430>"
            ]
          },
          "metadata": {},
          "execution_count": 53
        }
      ]
    },
    {
      "cell_type": "code",
      "source": [
        "print(classification_report(y_true= y_test, y_pred = clf.predict(X_test)))"
      ],
      "metadata": {
        "colab": {
          "base_uri": "https://localhost:8080/"
        },
        "id": "ucgw4v2aYt-c",
        "outputId": "5c0f2d57-5bcb-44a2-8ba7-34f2e68242c7"
      },
      "execution_count": null,
      "outputs": [
        {
          "output_type": "stream",
          "name": "stdout",
          "text": [
            "              precision    recall  f1-score   support\n",
            "\n",
            "           0       0.72      0.67      0.69       610\n",
            "           1       0.80      0.66      0.73       167\n",
            "           2       0.89      0.93      0.91      1548\n",
            "\n",
            "    accuracy                           0.84      2325\n",
            "   macro avg       0.80      0.75      0.78      2325\n",
            "weighted avg       0.84      0.84      0.84      2325\n",
            "\n"
          ]
        }
      ]
    },
    {
      "cell_type": "markdown",
      "source": [
        "##Stacking Model"
      ],
      "metadata": {
        "id": "YKDsaQF2TrlE"
      }
    },
    {
      "cell_type": "markdown",
      "source": [
        "![fcc3f8f1-85b1-4c82-81da-f134cc752439.png](data:image/png;base64,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)"
      ],
      "metadata": {
        "id": "g11p2rO10JnX"
      }
    },
    {
      "cell_type": "code",
      "source": [
        "from sklearn.ensemble import RandomForestClassifier\n",
        "from sklearn.svm import SVC\n",
        "from sklearn.neighbors import KNeighborsClassifier\n",
        "from sklearn.model_selection import cross_val_score, RepeatedStratifiedKFold\n",
        "from collections import defaultdict\n",
        "models_dict = {'random_forest':     RandomForestClassifier(n_estimators=50),\n",
        "               'svm': SVC(),\n",
        "               'knn': KNeighborsClassifier(n_neighbors=11)}"
      ],
      "metadata": {
        "id": "wX0P3PoEb-D4"
      },
      "execution_count": null,
      "outputs": []
    },
    {
      "cell_type": "code",
      "source": [
        "from sklearn.ensemble import StackingClassifier\n",
        "from sklearn.neural_network import MLPClassifier\n",
        "from sklearn.linear_model import LogisticRegressionCV\n",
        "base_models = [('random_forest', RandomForestClassifier(n_estimators=50)),\n",
        "               ('svm', SVC()),\n",
        "               ('knn', KNeighborsClassifier(n_neighbors=11))]\n",
        "meta_model = LogisticRegressionCV()\n",
        "stacking_model = StackingClassifier(estimators=base_models,\n",
        "                                    final_estimator=meta_model,\n",
        "                                    passthrough=True,\n",
        "                                    cv=5,\n",
        "                                    verbose=2)"
      ],
      "metadata": {
        "id": "OIfzOco0ZBb1"
      },
      "execution_count": null,
      "outputs": []
    },
    {
      "cell_type": "code",
      "source": [
        "from sklearn.metrics import f1_score\n",
        "def evaluate_model(model, X_train, y_train, X_test, y_test):\n",
        "    cv = RepeatedStratifiedKFold(n_splits=5, n_repeats=2, random_state=1)\n",
        "    model.fit(X_train, y_train)\n",
        "    y_pred = model.predict(X_test)\n",
        "    scores = f1_score(y_test, y_pred, average='micro')\n",
        "    return scores"
      ],
      "metadata": {
        "id": "wZ6a_CtccKZz"
      },
      "execution_count": null,
      "outputs": []
    },
    {
      "cell_type": "code",
      "source": [
        "model_scores = defaultdict()\n",
        "for name, model in models_dict.items():\n",
        "    print('Evaluating {}'.format(name))\n",
        "    scores = evaluate_model(model, X_train, y_train, X_test, y_test)\n",
        "    model_scores[name] = scores"
      ],
      "metadata": {
        "colab": {
          "base_uri": "https://localhost:8080/"
        },
        "id": "Guku3OSScwIW",
        "outputId": "32eceaa1-fca3-40c7-d86b-62bf841834ee"
      },
      "execution_count": null,
      "outputs": [
        {
          "output_type": "stream",
          "name": "stdout",
          "text": [
            "Evaluating random_forest\n",
            "Evaluating svm\n",
            "Evaluating knn\n"
          ]
        }
      ]
    },
    {
      "cell_type": "code",
      "source": [
        "stacking_model.fit(X_train, y_train)"
      ],
      "metadata": {
        "colab": {
          "base_uri": "https://localhost:8080/"
        },
        "id": "lfRngDWxgzpq",
        "outputId": "a958fef0-c17a-4d45-b8e8-149bff5cd006"
      },
      "execution_count": null,
      "outputs": [
        {
          "output_type": "stream",
          "name": "stderr",
          "text": [
            "[Parallel(n_jobs=1)]: Using backend SequentialBackend with 1 concurrent workers.\n",
            "[Parallel(n_jobs=1)]: Done   1 out of   1 | elapsed:    0.5s remaining:    0.0s\n",
            "[Parallel(n_jobs=1)]: Done   5 out of   5 | elapsed:    1.9s finished\n",
            "[Parallel(n_jobs=1)]: Using backend SequentialBackend with 1 concurrent workers.\n",
            "[Parallel(n_jobs=1)]: Done   1 out of   1 | elapsed:    0.8s remaining:    0.0s\n",
            "[Parallel(n_jobs=1)]: Done   5 out of   5 | elapsed:    3.7s finished\n",
            "[Parallel(n_jobs=1)]: Using backend SequentialBackend with 1 concurrent workers.\n",
            "[Parallel(n_jobs=1)]: Done   1 out of   1 | elapsed:    0.1s remaining:    0.0s\n",
            "[Parallel(n_jobs=1)]: Done   5 out of   5 | elapsed:    0.4s finished\n",
            "/usr/local/lib/python3.8/dist-packages/sklearn/linear_model/_logistic.py:814: ConvergenceWarning:\n",
            "\n",
            "lbfgs failed to converge (status=1):\n",
            "STOP: TOTAL NO. of ITERATIONS REACHED LIMIT.\n",
            "\n",
            "Increase the number of iterations (max_iter) or scale the data as shown in:\n",
            "    https://scikit-learn.org/stable/modules/preprocessing.html\n",
            "Please also refer to the documentation for alternative solver options:\n",
            "    https://scikit-learn.org/stable/modules/linear_model.html#logistic-regression\n",
            "\n",
            "/usr/local/lib/python3.8/dist-packages/sklearn/linear_model/_logistic.py:814: ConvergenceWarning:\n",
            "\n",
            "lbfgs failed to converge (status=1):\n",
            "STOP: TOTAL NO. of ITERATIONS REACHED LIMIT.\n",
            "\n",
            "Increase the number of iterations (max_iter) or scale the data as shown in:\n",
            "    https://scikit-learn.org/stable/modules/preprocessing.html\n",
            "Please also refer to the documentation for alternative solver options:\n",
            "    https://scikit-learn.org/stable/modules/linear_model.html#logistic-regression\n",
            "\n",
            "/usr/local/lib/python3.8/dist-packages/sklearn/linear_model/_logistic.py:814: ConvergenceWarning:\n",
            "\n",
            "lbfgs failed to converge (status=1):\n",
            "STOP: TOTAL NO. of ITERATIONS REACHED LIMIT.\n",
            "\n",
            "Increase the number of iterations (max_iter) or scale the data as shown in:\n",
            "    https://scikit-learn.org/stable/modules/preprocessing.html\n",
            "Please also refer to the documentation for alternative solver options:\n",
            "    https://scikit-learn.org/stable/modules/linear_model.html#logistic-regression\n",
            "\n",
            "/usr/local/lib/python3.8/dist-packages/sklearn/linear_model/_logistic.py:814: ConvergenceWarning:\n",
            "\n",
            "lbfgs failed to converge (status=1):\n",
            "STOP: TOTAL NO. of ITERATIONS REACHED LIMIT.\n",
            "\n",
            "Increase the number of iterations (max_iter) or scale the data as shown in:\n",
            "    https://scikit-learn.org/stable/modules/preprocessing.html\n",
            "Please also refer to the documentation for alternative solver options:\n",
            "    https://scikit-learn.org/stable/modules/linear_model.html#logistic-regression\n",
            "\n",
            "/usr/local/lib/python3.8/dist-packages/sklearn/linear_model/_logistic.py:814: ConvergenceWarning:\n",
            "\n",
            "lbfgs failed to converge (status=1):\n",
            "STOP: TOTAL NO. of ITERATIONS REACHED LIMIT.\n",
            "\n",
            "Increase the number of iterations (max_iter) or scale the data as shown in:\n",
            "    https://scikit-learn.org/stable/modules/preprocessing.html\n",
            "Please also refer to the documentation for alternative solver options:\n",
            "    https://scikit-learn.org/stable/modules/linear_model.html#logistic-regression\n",
            "\n",
            "/usr/local/lib/python3.8/dist-packages/sklearn/linear_model/_logistic.py:814: ConvergenceWarning:\n",
            "\n",
            "lbfgs failed to converge (status=1):\n",
            "STOP: TOTAL NO. of ITERATIONS REACHED LIMIT.\n",
            "\n",
            "Increase the number of iterations (max_iter) or scale the data as shown in:\n",
            "    https://scikit-learn.org/stable/modules/preprocessing.html\n",
            "Please also refer to the documentation for alternative solver options:\n",
            "    https://scikit-learn.org/stable/modules/linear_model.html#logistic-regression\n",
            "\n"
          ]
        },
        {
          "output_type": "execute_result",
          "data": {
            "text/plain": [
              "StackingClassifier(cv=5,\n",
              "                   estimators=[('random_forest',\n",
              "                                RandomForestClassifier(n_estimators=50)),\n",
              "                               ('svm', SVC()),\n",
              "                               ('knn', KNeighborsClassifier(n_neighbors=11))],\n",
              "                   final_estimator=LogisticRegressionCV(), passthrough=True,\n",
              "                   verbose=2)"
            ]
          },
          "metadata": {},
          "execution_count": 70
        }
      ]
    },
    {
      "cell_type": "code",
      "source": [
        "print(classification_report(y_true= y_test, y_pred = stacking_model.predict(X_test)))"
      ],
      "metadata": {
        "colab": {
          "base_uri": "https://localhost:8080/"
        },
        "id": "Nvf2YHWVhAMm",
        "outputId": "3d17b1a1-15ae-4ca9-ecd6-9e34204d9c6b"
      },
      "execution_count": null,
      "outputs": [
        {
          "output_type": "stream",
          "name": "stdout",
          "text": [
            "              precision    recall  f1-score   support\n",
            "\n",
            "           0       0.65      0.62      0.63       610\n",
            "           1       0.69      0.53      0.60       167\n",
            "           2       0.88      0.91      0.90      1548\n",
            "\n",
            "    accuracy                           0.81      2325\n",
            "   macro avg       0.74      0.69      0.71      2325\n",
            "weighted avg       0.80      0.81      0.81      2325\n",
            "\n"
          ]
        }
      ]
    },
    {
      "cell_type": "markdown",
      "source": [
        "Catboost là mô hình cho kết quả tốt nhất"
      ],
      "metadata": {
        "id": "zt0vmna9ho1E"
      }
    },
    {
      "cell_type": "markdown",
      "source": [
        "#Feature Engineering"
      ],
      "metadata": {
        "id": "Gnoh1MA9iKuI"
      }
    },
    {
      "cell_type": "markdown",
      "source": [
        "Sinh thêm các biến tương tác giữa các feature"
      ],
      "metadata": {
        "id": "IhepvddBiNyj"
      }
    },
    {
      "cell_type": "code",
      "source": [
        "#Capture target variable\n",
        "poly_target_train = data_train['Customer Status']\n",
        "poly_features_train = data_train.drop(columns=['Customer Status'])\n",
        "\n",
        "#Import polynomial feature module\n",
        "from sklearn.preprocessing import PolynomialFeatures\n",
        "\n",
        "#Create polynomial object with degree of 2\n",
        "poly_transformer = PolynomialFeatures(degree = 2)\n",
        "\n",
        "#Train the polynomial features\n",
        "poly_transformer.fit(poly_features_train)\n",
        "\n",
        "#Transform the features\n",
        "poly_features = poly_transformer.transform(poly_features_train)\n",
        "\n",
        "print('Polynomial Features Shape: ', poly_features_train.shape)"
      ],
      "metadata": {
        "colab": {
          "base_uri": "https://localhost:8080/"
        },
        "id": "SzLo4faLiRDO",
        "outputId": "12bc503f-a039-4480-e46a-dc64fc699dff"
      },
      "execution_count": null,
      "outputs": [
        {
          "output_type": "stream",
          "name": "stdout",
          "text": [
            "Polynomial Features Shape:  (4718, 31)\n"
          ]
        }
      ]
    },
    {
      "cell_type": "code",
      "source": [
        "#Capture target variable\n",
        "poly_target_test = data_test['Customer Status']\n",
        "poly_features_test = data_test.drop(columns=['Customer Status'])\n",
        "\n",
        "#Import polynomial feature module\n",
        "from sklearn.preprocessing import PolynomialFeatures\n",
        "\n",
        "#Create polynomial object with degree of 2\n",
        "poly_transformer = PolynomialFeatures(degree = 2)\n",
        "\n",
        "#Train the polynomial features\n",
        "poly_transformer.fit(poly_features_test)\n",
        "\n",
        "#Transform the features\n",
        "poly_features = poly_transformer.transform(poly_features_test)\n",
        "\n",
        "print('Polynomial Features Shape: ', poly_features_test.shape)"
      ],
      "metadata": {
        "colab": {
          "base_uri": "https://localhost:8080/"
        },
        "id": "Yivnp1vfinoL",
        "outputId": "802168c3-bedf-49ac-d6bd-13a85366ee10"
      },
      "execution_count": null,
      "outputs": [
        {
          "output_type": "stream",
          "name": "stdout",
          "text": [
            "Polynomial Features Shape:  (2325, 31)\n"
          ]
        }
      ]
    },
    {
      "cell_type": "code",
      "source": [
        "from catboost import CatBoostClassifier\n",
        "\n",
        "clf = CatBoostClassifier(\n",
        "    iterations=50,\n",
        "#     verbose=5,\n",
        ")\n",
        "\n",
        "clf.fit(\n",
        "    poly_features_train, poly_target_train,\n",
        "    eval_set=(poly_features_test, poly_target_test)\n",
        ")"
      ],
      "metadata": {
        "colab": {
          "base_uri": "https://localhost:8080/"
        },
        "id": "5V66xhmujDiF",
        "outputId": "227e5a20-93ec-4136-a9f7-71f43082fb8e"
      },
      "execution_count": null,
      "outputs": [
        {
          "output_type": "stream",
          "name": "stdout",
          "text": [
            "Learning rate set to 0.349781\n",
            "0:\tlearn: 0.7731701\ttest: 0.7875530\tbest: 0.7875530 (0)\ttotal: 25.1ms\tremaining: 1.23s\n",
            "1:\tlearn: 0.6254710\ttest: 0.6429004\tbest: 0.6429004 (1)\ttotal: 46ms\tremaining: 1.1s\n",
            "2:\tlearn: 0.5389279\ttest: 0.5620200\tbest: 0.5620200 (2)\ttotal: 60.3ms\tremaining: 944ms\n",
            "3:\tlearn: 0.4866540\ttest: 0.5139622\tbest: 0.5139622 (3)\ttotal: 79.7ms\tremaining: 916ms\n",
            "4:\tlearn: 0.4495222\ttest: 0.4782365\tbest: 0.4782365 (4)\ttotal: 100ms\tremaining: 901ms\n",
            "5:\tlearn: 0.4204008\ttest: 0.4509650\tbest: 0.4509650 (5)\ttotal: 115ms\tremaining: 844ms\n",
            "6:\tlearn: 0.3970353\ttest: 0.4280197\tbest: 0.4280197 (6)\ttotal: 133ms\tremaining: 815ms\n",
            "7:\tlearn: 0.3859642\ttest: 0.4192442\tbest: 0.4192442 (7)\ttotal: 155ms\tremaining: 816ms\n",
            "8:\tlearn: 0.3712870\ttest: 0.4065970\tbest: 0.4065970 (8)\ttotal: 170ms\tremaining: 774ms\n",
            "9:\tlearn: 0.3638633\ttest: 0.4022096\tbest: 0.4022096 (9)\ttotal: 198ms\tremaining: 793ms\n",
            "10:\tlearn: 0.3511095\ttest: 0.3912854\tbest: 0.3912854 (10)\ttotal: 221ms\tremaining: 785ms\n",
            "11:\tlearn: 0.3433495\ttest: 0.3858259\tbest: 0.3858259 (11)\ttotal: 240ms\tremaining: 761ms\n",
            "12:\tlearn: 0.3400728\ttest: 0.3841145\tbest: 0.3841145 (12)\ttotal: 253ms\tremaining: 721ms\n",
            "13:\tlearn: 0.3346619\ttest: 0.3804478\tbest: 0.3804478 (13)\ttotal: 278ms\tremaining: 716ms\n",
            "14:\tlearn: 0.3306355\ttest: 0.3780739\tbest: 0.3780739 (14)\ttotal: 298ms\tremaining: 696ms\n",
            "15:\tlearn: 0.3254785\ttest: 0.3756641\tbest: 0.3756641 (15)\ttotal: 314ms\tremaining: 666ms\n",
            "16:\tlearn: 0.3209933\ttest: 0.3722114\tbest: 0.3722114 (16)\ttotal: 337ms\tremaining: 654ms\n",
            "17:\tlearn: 0.3190527\ttest: 0.3725241\tbest: 0.3722114 (16)\ttotal: 352ms\tremaining: 626ms\n",
            "18:\tlearn: 0.3172101\ttest: 0.3717497\tbest: 0.3717497 (18)\ttotal: 361ms\tremaining: 589ms\n",
            "19:\tlearn: 0.3153781\ttest: 0.3703242\tbest: 0.3703242 (19)\ttotal: 370ms\tremaining: 554ms\n",
            "20:\tlearn: 0.3132354\ttest: 0.3690539\tbest: 0.3690539 (20)\ttotal: 376ms\tremaining: 519ms\n",
            "21:\tlearn: 0.3094143\ttest: 0.3654315\tbest: 0.3654315 (21)\ttotal: 386ms\tremaining: 491ms\n",
            "22:\tlearn: 0.3059585\ttest: 0.3651544\tbest: 0.3651544 (22)\ttotal: 399ms\tremaining: 469ms\n",
            "23:\tlearn: 0.3033332\ttest: 0.3646772\tbest: 0.3646772 (23)\ttotal: 406ms\tremaining: 439ms\n",
            "24:\tlearn: 0.3008753\ttest: 0.3654165\tbest: 0.3646772 (23)\ttotal: 415ms\tremaining: 415ms\n",
            "25:\tlearn: 0.2992872\ttest: 0.3655726\tbest: 0.3646772 (23)\ttotal: 421ms\tremaining: 389ms\n",
            "26:\tlearn: 0.2960068\ttest: 0.3657334\tbest: 0.3646772 (23)\ttotal: 435ms\tremaining: 370ms\n",
            "27:\tlearn: 0.2922300\ttest: 0.3642671\tbest: 0.3642671 (27)\ttotal: 443ms\tremaining: 348ms\n",
            "28:\tlearn: 0.2878285\ttest: 0.3615253\tbest: 0.3615253 (28)\ttotal: 451ms\tremaining: 327ms\n",
            "29:\tlearn: 0.2859589\ttest: 0.3612082\tbest: 0.3612082 (29)\ttotal: 460ms\tremaining: 307ms\n",
            "30:\tlearn: 0.2832068\ttest: 0.3618047\tbest: 0.3612082 (29)\ttotal: 468ms\tremaining: 287ms\n",
            "31:\tlearn: 0.2815312\ttest: 0.3615441\tbest: 0.3612082 (29)\ttotal: 476ms\tremaining: 268ms\n",
            "32:\tlearn: 0.2794697\ttest: 0.3606222\tbest: 0.3606222 (32)\ttotal: 485ms\tremaining: 250ms\n",
            "33:\tlearn: 0.2778065\ttest: 0.3612123\tbest: 0.3606222 (32)\ttotal: 495ms\tremaining: 233ms\n",
            "34:\tlearn: 0.2763126\ttest: 0.3599422\tbest: 0.3599422 (34)\ttotal: 501ms\tremaining: 215ms\n",
            "35:\tlearn: 0.2747158\ttest: 0.3604863\tbest: 0.3599422 (34)\ttotal: 526ms\tremaining: 204ms\n",
            "36:\tlearn: 0.2732653\ttest: 0.3612725\tbest: 0.3599422 (34)\ttotal: 544ms\tremaining: 191ms\n",
            "37:\tlearn: 0.2716609\ttest: 0.3616193\tbest: 0.3599422 (34)\ttotal: 566ms\tremaining: 179ms\n",
            "38:\tlearn: 0.2705733\ttest: 0.3619545\tbest: 0.3599422 (34)\ttotal: 582ms\tremaining: 164ms\n",
            "39:\tlearn: 0.2684072\ttest: 0.3626091\tbest: 0.3599422 (34)\ttotal: 602ms\tremaining: 151ms\n",
            "40:\tlearn: 0.2667551\ttest: 0.3613892\tbest: 0.3599422 (34)\ttotal: 619ms\tremaining: 136ms\n",
            "41:\tlearn: 0.2659936\ttest: 0.3621476\tbest: 0.3599422 (34)\ttotal: 635ms\tremaining: 121ms\n",
            "42:\tlearn: 0.2646202\ttest: 0.3630770\tbest: 0.3599422 (34)\ttotal: 655ms\tremaining: 107ms\n",
            "43:\tlearn: 0.2630231\ttest: 0.3637876\tbest: 0.3599422 (34)\ttotal: 674ms\tremaining: 92ms\n",
            "44:\tlearn: 0.2609915\ttest: 0.3640414\tbest: 0.3599422 (34)\ttotal: 698ms\tremaining: 77.5ms\n",
            "45:\tlearn: 0.2594907\ttest: 0.3648189\tbest: 0.3599422 (34)\ttotal: 714ms\tremaining: 62.1ms\n",
            "46:\tlearn: 0.2587563\ttest: 0.3649981\tbest: 0.3599422 (34)\ttotal: 738ms\tremaining: 47.1ms\n",
            "47:\tlearn: 0.2564613\ttest: 0.3654815\tbest: 0.3599422 (34)\ttotal: 753ms\tremaining: 31.4ms\n",
            "48:\tlearn: 0.2550986\ttest: 0.3656079\tbest: 0.3599422 (34)\ttotal: 773ms\tremaining: 15.8ms\n",
            "49:\tlearn: 0.2540068\ttest: 0.3664040\tbest: 0.3599422 (34)\ttotal: 790ms\tremaining: 0us\n",
            "\n",
            "bestTest = 0.3599421692\n",
            "bestIteration = 34\n",
            "\n",
            "Shrink model to first 35 iterations.\n"
          ]
        },
        {
          "output_type": "execute_result",
          "data": {
            "text/plain": [
              "<catboost.core.CatBoostClassifier at 0x7fdc7152c2e0>"
            ]
          },
          "metadata": {},
          "execution_count": 79
        }
      ]
    },
    {
      "cell_type": "code",
      "source": [
        "print(classification_report(y_true= y_test, y_pred = clf.predict(X_test)))"
      ],
      "metadata": {
        "colab": {
          "base_uri": "https://localhost:8080/"
        },
        "id": "CjxNEYOLjZMy",
        "outputId": "e6afb6c8-65c2-41c1-83a0-74420003e60d"
      },
      "execution_count": null,
      "outputs": [
        {
          "output_type": "stream",
          "name": "stdout",
          "text": [
            "              precision    recall  f1-score   support\n",
            "\n",
            "           0       0.72      0.67      0.69       610\n",
            "           1       0.80      0.66      0.73       167\n",
            "           2       0.89      0.93      0.91      1548\n",
            "\n",
            "    accuracy                           0.84      2325\n",
            "   macro avg       0.80      0.75      0.78      2325\n",
            "weighted avg       0.84      0.84      0.84      2325\n",
            "\n"
          ]
        }
      ]
    },
    {
      "cell_type": "markdown",
      "source": [
        "Kết quả không có sự cải thiện rõ rệt"
      ],
      "metadata": {
        "id": "Qd4865BqjqMO"
      }
    }
  ]
}