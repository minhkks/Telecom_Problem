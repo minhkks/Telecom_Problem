{
  "nbformat": 4,
  "nbformat_minor": 0,
  "metadata": {
    "colab": {
      "provenance": []
    },
    "kernelspec": {
      "name": "python3",
      "display_name": "Python 3"
    },
    "language_info": {
      "name": "python"
    }
  },
  "cells": [
    {
      "cell_type": "code",
      "source": [
        "!pip3 install --upgrade --user --quiet google-cloud-aiplatform"
      ],
      "metadata": {
        "id": "AgEUeYt5Qs_O"
      },
      "execution_count": 5,
      "outputs": []
    },
    {
      "cell_type": "code",
      "source": [
        "# Restart kernel after installs so that your environment can access the new packages\n",
        "import IPython\n",
        "\n",
        "app = IPython.Application.instance()\n",
        "app.kernel.do_shutdown(True)"
      ],
      "metadata": {
        "colab": {
          "base_uri": "https://localhost:8080/"
        },
        "id": "uk32QEdsQzuj",
        "outputId": "4093792b-f619-4e62-f098-2c4885f10575"
      },
      "execution_count": 6,
      "outputs": [
        {
          "output_type": "execute_result",
          "data": {
            "text/plain": [
              "{'status': 'ok', 'restart': True}"
            ]
          },
          "metadata": {},
          "execution_count": 6
        }
      ]
    },
    {
      "cell_type": "code",
      "source": [
        "import sys\n",
        "\n",
        "if \"google.colab\" in sys.modules:\n",
        "    from google.colab import auth\n",
        "\n",
        "    auth.authenticate_user()"
      ],
      "metadata": {
        "id": "6-489Fn0Q3V3"
      },
      "execution_count": 1,
      "outputs": []
    },
    {
      "cell_type": "code",
      "source": [
        "PROJECT_ID = 'diesel-airfoil-423410-b3'  # @param {type:\"string\"}\n",
        "LOCATION = \"us-central1\"  # @param {type:\"string\"}\n",
        "\n",
        "import vertexai\n",
        "\n",
        "vertexai.init(project=PROJECT_ID, location=LOCATION)"
      ],
      "metadata": {
        "id": "aNloiOffQ39y"
      },
      "execution_count": 1,
      "outputs": []
    },
    {
      "cell_type": "markdown",
      "source": [
        "#API"
      ],
      "metadata": {
        "id": "skp-nDRzZn34"
      }
    },
    {
      "cell_type": "code",
      "source": [
        "# import module\n",
        "import requests\n",
        "from bs4 import BeautifulSoup\n",
        "import json\n",
        "# UDF for get HTML code\n",
        "# from URL\n",
        "\n",
        "\n",
        "def get_html(Airline_code, Flight_number, Date, Month, Year):\n",
        "    def getdata(url):\n",
        "        r = requests.get(url)\n",
        "        return r.text\n",
        "\n",
        "    # url\n",
        "    url = \"https://www.flightstats.com/v2/flight-tracker/\"+Airline_code + \\\n",
        "        \"/\"+Flight_number+\"?year=\"+Year+\"&month=\"+Month+\"&date=\"+Date\n",
        "\n",
        "    # pass the url\n",
        "    # into getdata function\n",
        "    htmldata = getdata(url)\n",
        "    soup = BeautifulSoup(htmldata, 'html.parser')\n",
        "    return(soup)\n",
        "\n",
        "# Get Flight number\n",
        "# from Html code\n",
        "\n",
        "\n",
        "def flight_no(soup):\n",
        "    Flight_no = \"\"\n",
        "\n",
        "    # Find div tag with\n",
        "    # unique class name\n",
        "    for i in soup.find(\"div\", class_=\"ticket__FlightNumberContainer-sc-1rrbl5o-4 exbpMf\"):\n",
        "        Flight_no = Flight_no + (i.get_text()) + \" \"\n",
        "    return Flight_no\n",
        "\n",
        "# Get Airport name\n",
        "# from HTML code\n",
        "\n",
        "\n",
        "def airport(soup):\n",
        "    Airport_name = []\n",
        "    # Find div tag with\n",
        "    # unique class name\n",
        "    for i in soup.find_all(class_='text-helper__TextHelper-sc-8bko4a-0 cHdMkI'):\n",
        "        Airport_name.append(i.get_text())\n",
        "    return Airport_name\n",
        "\n",
        "# get status\n",
        "# from HTML code\n",
        "\n",
        "\n",
        "def status(soup, flight_no):\n",
        "  for i in soup.find_all(\"script\"):\n",
        "    if '__NEXT_DATA__' in i.get_text():\n",
        "      result = i\n",
        "\n",
        "  data = json.loads(result.string.split('{\"props\":')[1].split(',\"page\":')[0])\n",
        "  status = data['initialState']['flightTracker']['flight']['status']\n",
        "  departure = data['initialState']['flightTracker']['flight']['departureAirport']\n",
        "  arrival = data['initialState']['flightTracker']['flight']['arrivalAirport']\n",
        "\n",
        "  flight_details = {\n",
        "    'flight': flight_no,\n",
        "    'status': (status['statusDescription'], status['delay']['departure']['minutes'], status['delay']['arrival']['minutes']),\n",
        "    'source': (departure['iata'], departure['name'], departure['gate'], departure['times']['scheduled']['time'], departure['times']['scheduled']['ampm'], departure['times']['estimatedActual']['time'], departure['times']['estimatedActual']['ampm']),\n",
        "    'destination': (arrival['iata'], arrival['name'], arrival['gate'], arrival['times']['scheduled']['time'], arrival['times']['scheduled']['ampm'], arrival['times']['estimatedActual']['time'], arrival['times']['estimatedActual']['ampm'])\n",
        "  }\n",
        "  return flight_details\n"
      ],
      "metadata": {
        "id": "96qKjVmcP_ua"
      },
      "execution_count": 2,
      "outputs": []
    },
    {
      "cell_type": "code",
      "source": [
        "# Driver code\n",
        "if __name__ == '__main__':\n",
        "    # Input Data from geek\n",
        "    Airline_code = 'AA'\n",
        "    Flight_number = '2'\n",
        "    Date = '29'\n",
        "    Month = '5'\n",
        "    Year = '2024'\n",
        "\n",
        "    # Calling the get_html\n",
        "    # with argument\n",
        "    # function calling\n",
        "    soup = get_html(Airline_code, Flight_number, Date, Month, Year)\n",
        "    flight_num = flight_no(soup)\n",
        "    print(\"Flight number : \", flight_num)\n",
        "    Airport_list = airport(soup)\n",
        "    result = status(soup, flight_num)\n",
        "    print(result)"
      ],
      "metadata": {
        "colab": {
          "base_uri": "https://localhost:8080/"
        },
        "id": "fewqz6KsQm_v",
        "outputId": "415b3cf2-bcf6-44e0-9c99-d879fe0e7944"
      },
      "execution_count": 54,
      "outputs": [
        {
          "output_type": "stream",
          "name": "stdout",
          "text": [
            "Flight number :  AA 2 American Airlines \n",
            "{'flight': 'AA 2 American Airlines ', 'status': ('On time', 0, 0), 'source': ('LAX', 'Los Angeles International Airport', '42A', '8:00', 'AM', '8:00', 'AM'), 'destination': ('JFK', 'John F. Kennedy International Airport', '36', '4:35', 'PM', '4:35', 'PM')}\n"
          ]
        }
      ]
    },
    {
      "cell_type": "markdown",
      "source": [
        "#Model"
      ],
      "metadata": {
        "id": "YVMQVo6CZq4x"
      }
    },
    {
      "cell_type": "code",
      "source": [
        "import requests\n",
        "from vertexai.generative_models import (\n",
        "    Content,\n",
        "    FunctionDeclaration,\n",
        "    GenerationConfig,\n",
        "    GenerativeModel,\n",
        "    Part,\n",
        "    Tool,\n",
        ")"
      ],
      "metadata": {
        "id": "1fRm92ckHO3j"
      },
      "execution_count": 4,
      "outputs": []
    },
    {
      "cell_type": "code",
      "source": [
        "#set up function declaration\n",
        "get_flight_info = FunctionDeclaration(\n",
        "    name=\"get_flight_info\",\n",
        "    description=\"Get the flight infomation for a given airline code and flight number on a specified date\",\n",
        "    parameters={\n",
        "        \"type\": \"object\",\n",
        "        \"properties\": {\n",
        "            \"airline_code\": {\"type\": \"string\", \"description\": \"Airline Code\"},\n",
        "            \"flight_number\": {\"type\": \"string\", \"description\": \"Flight Number\"},\n",
        "            \"day\": {\"type\": \"string\", \"description\": \"Day\"},\n",
        "            \"month\": {\"type\": \"string\", \"description\": \"Month\"},\n",
        "            \"year\": {\"type\": \"string\", \"description\": \"Year\"},\n",
        "        },\n",
        "    },\n",
        ")"
      ],
      "metadata": {
        "id": "D2usf6J9Hlkg"
      },
      "execution_count": 35,
      "outputs": []
    },
    {
      "cell_type": "code",
      "source": [
        "retail_tool = Tool(\n",
        "    function_declarations=[\n",
        "        get_flight_info\n",
        "    ],\n",
        ")"
      ],
      "metadata": {
        "id": "PZFcIrzPHm1G"
      },
      "execution_count": 36,
      "outputs": []
    },
    {
      "cell_type": "code",
      "source": [
        "#set up agent\n",
        "model = GenerativeModel(\n",
        "    \"gemini-1.5-pro\",\n",
        "    generation_config=GenerationConfig(temperature=0),\n",
        "    tools=[retail_tool],\n",
        ")\n",
        "chat = model.start_chat()"
      ],
      "metadata": {
        "id": "bLgMO5QZRcWN"
      },
      "execution_count": 51,
      "outputs": []
    },
    {
      "cell_type": "code",
      "source": [
        "#prompting\n",
        "prompt = \"\"\"\n",
        "Do you know infomation about filght AA Airline with flight number is 2 on 27/5/2024\n",
        "\"\"\"\n",
        "\n",
        "response = chat.send_message(prompt)\n",
        "response.candidates[0].content.parts[0]"
      ],
      "metadata": {
        "colab": {
          "base_uri": "https://localhost:8080/"
        },
        "id": "VRQSVqBbRPeP",
        "outputId": "f51d9bc1-af7b-4203-8162-96b5eb34dc84"
      },
      "execution_count": 52,
      "outputs": [
        {
          "output_type": "execute_result",
          "data": {
            "text/plain": [
              "function_call {\n",
              "  name: \"get_flight_info\"\n",
              "  args {\n",
              "    fields {\n",
              "      key: \"airline_code\"\n",
              "      value {\n",
              "        string_value: \"AA\"\n",
              "      }\n",
              "    }\n",
              "    fields {\n",
              "      key: \"day\"\n",
              "      value {\n",
              "        string_value: \"27\"\n",
              "      }\n",
              "    }\n",
              "    fields {\n",
              "      key: \"flight_number\"\n",
              "      value {\n",
              "        string_value: \"2\"\n",
              "      }\n",
              "    }\n",
              "    fields {\n",
              "      key: \"month\"\n",
              "      value {\n",
              "        string_value: \"5\"\n",
              "      }\n",
              "    }\n",
              "    fields {\n",
              "      key: \"year\"\n",
              "      value {\n",
              "        string_value: \"2024\"\n",
              "      }\n",
              "    }\n",
              "  }\n",
              "}"
            ]
          },
          "metadata": {},
          "execution_count": 52
        }
      ]
    },
    {
      "cell_type": "code",
      "source": [
        "x = response.candidates[0].content.parts[0].function_call.args\n",
        "user_prompt = {}\n",
        "for key, value in zip(x.keys(), x.values()):\n",
        "  print(key, value)\n",
        "  user_prompt[key] = value"
      ],
      "metadata": {
        "colab": {
          "base_uri": "https://localhost:8080/"
        },
        "id": "3t6n9KZxTEJg",
        "outputId": "7521a4f5-d84a-4e61-d790-98e94cbdd1fa"
      },
      "execution_count": 43,
      "outputs": [
        {
          "output_type": "stream",
          "name": "stdout",
          "text": [
            "airline_code AA\n",
            "day 27\n",
            "month 5\n",
            "year 2024\n",
            "flight_number 2\n"
          ]
        }
      ]
    },
    {
      "cell_type": "code",
      "source": [
        "soup = get_html(Airline_code = user_prompt['airline_code'], Flight_number = user_prompt['flight_number'],\\\n",
        "                Date = user_prompt['day'], Month = user_prompt['month'], Year = user_prompt['year'])\n",
        "flight_num = flight_no(soup)\n",
        "print(\"Flight number : \", flight_num)\n",
        "Airport_list = airport(soup)\n",
        "api_response = status(soup, flight_num)\n",
        "print(api_response)"
      ],
      "metadata": {
        "colab": {
          "base_uri": "https://localhost:8080/"
        },
        "id": "4uhdRK0OTrUn",
        "outputId": "b0403170-fc0f-437e-9c80-44a5eb47cab2"
      },
      "execution_count": 45,
      "outputs": [
        {
          "output_type": "stream",
          "name": "stdout",
          "text": [
            "Flight number :  AA 2 American Airlines \n",
            "{'flight': 'AA 2 American Airlines ', 'status': ('Delayed by 34m', 0, 34), 'source': ('LAX', 'Los Angeles International Airport', '47B', '8:00', 'AM', '7:53', 'AM'), 'destination': ('JFK', 'John F. Kennedy International Airport', '43', '4:35', 'PM', '5:09', 'PM')}\n"
          ]
        }
      ]
    },
    {
      "cell_type": "code",
      "source": [
        "#response\n",
        "response = chat.send_message(\n",
        "    Part.from_function_response(\n",
        "        name=\"get_flight_info\",\n",
        "        response={\n",
        "            \"content\": api_response,\n",
        "        },\n",
        "    ),\n",
        ")\n",
        "response.candidates[0].content.parts[0]"
      ],
      "metadata": {
        "colab": {
          "base_uri": "https://localhost:8080/"
        },
        "id": "W-b0KMnmRPZm",
        "outputId": "9d668d41-796e-4244-b8ad-6494e36e2805"
      },
      "execution_count": 53,
      "outputs": [
        {
          "output_type": "execute_result",
          "data": {
            "text/plain": [
              "text: \"I found a flight from LAX to JFK that matches your criteria: Flight AA 2  is delayed by 34 minutes. It departs from Los Angeles International Airport at 8:00 AM, arriving at John F. Kennedy International Airport at 5:09 PM. \\n\""
            ]
          },
          "metadata": {},
          "execution_count": 53
        }
      ]
    },
    {
      "cell_type": "markdown",
      "source": [
        "#Easy Function calling"
      ],
      "metadata": {
        "id": "SbxxMU7aRRKl"
      }
    },
    {
      "cell_type": "code",
      "source": [
        "model = GenerativeModel(\n",
        "    \"gemini-1.5-flash\",\n",
        "    generation_config=GenerationConfig(temperature=0),\n",
        "    tools=[retail_tool],\n",
        ")\n",
        "chat = model.start_chat()"
      ],
      "metadata": {
        "colab": {
          "base_uri": "https://localhost:8080/"
        },
        "id": "kF962VluIPDd",
        "outputId": "9a345b26-9454-4d24-cd6f-69f3562e246f"
      },
      "execution_count": 13,
      "outputs": [
        {
          "output_type": "execute_result",
          "data": {
            "text/plain": [
              "genai.GenerativeModel(\n",
              "    model_name='models/gemini-1.5-flash',\n",
              "    generation_config={},\n",
              "    safety_settings={},\n",
              "    tools=<google.generativeai.types.content_types.FunctionLibrary object at 0x7a51dc619480>,\n",
              "    system_instruction=None,\n",
              ")"
            ]
          },
          "metadata": {},
          "execution_count": 13
        }
      ]
    },
    {
      "cell_type": "code",
      "source": [
        "chat = model.start_chat(enable_automatic_function_calling=True)"
      ],
      "metadata": {
        "id": "eDU1Qs5bIdOy"
      },
      "execution_count": 9,
      "outputs": []
    },
    {
      "cell_type": "code",
      "source": [
        "response = chat.send_message('I have 57 cats, each owns 44 mittens, how many mittens is that in total?')\n",
        "response.text"
      ],
      "metadata": {
        "colab": {
          "base_uri": "https://localhost:8080/",
          "height": 35
        },
        "id": "D5jxtK_LIdHI",
        "outputId": "ea08c0d1-c046-4253-ac11-fb86c1c151de"
      },
      "execution_count": 10,
      "outputs": [
        {
          "output_type": "execute_result",
          "data": {
            "text/plain": [
              "\"That's a lot of mittens! There are a total of 2508 mittens. \\n\""
            ],
            "application/vnd.google.colaboratory.intrinsic+json": {
              "type": "string"
            }
          },
          "metadata": {},
          "execution_count": 10
        }
      ]
    },
    {
      "cell_type": "code",
      "source": [
        "for content in chat.history:\n",
        "    part = content.parts[0]\n",
        "    print(content.role, \"->\", type(part).to_dict(part))\n",
        "    print('-'*80)"
      ],
      "metadata": {
        "colab": {
          "base_uri": "https://localhost:8080/"
        },
        "id": "FKo9aIjuIc-5",
        "outputId": "fbe28ad2-817e-4e8d-e0ec-fed57d9292ae"
      },
      "execution_count": 11,
      "outputs": [
        {
          "output_type": "stream",
          "name": "stdout",
          "text": [
            "user -> {'text': 'I have 57 cats, each owns 44 mittens, how many mittens is that in total?'}\n",
            "--------------------------------------------------------------------------------\n",
            "model -> {'function_call': {'name': 'multiply', 'args': {'a': 57.0, 'b': 44.0}}}\n",
            "--------------------------------------------------------------------------------\n",
            "user -> {'function_response': {'name': 'multiply', 'response': {'result': 101.0}}}\n",
            "--------------------------------------------------------------------------------\n",
            "model -> {'text': \"That's a lot of mittens! There are a total of 2508 mittens. \\n\"}\n",
            "--------------------------------------------------------------------------------\n"
          ]
        }
      ]
    }
  ]
}