{
  "nbformat": 4,
  "nbformat_minor": 0,
  "metadata": {
    "colab": {
      "provenance": []
    },
    "kernelspec": {
      "name": "python3",
      "display_name": "Python 3"
    },
    "language_info": {
      "name": "python"
    }
  },
  "cells": [
    {
      "cell_type": "code",
      "source": [
        "# import module\n",
        "import requests\n",
        "from bs4 import BeautifulSoup\n",
        "import json\n",
        "# UDF for get HTML code\n",
        "# from URL\n",
        "\n",
        "\n",
        "def get_html(Airline_code, Flight_number, Date, Month, Year):\n",
        "    def getdata(url):\n",
        "        r = requests.get(url)\n",
        "        return r.text\n",
        "\n",
        "    # url\n",
        "    url = \"https://www.flightstats.com/v2/flight-tracker/\"+Airline_code + \\\n",
        "        \"/\"+Flight_number+\"?year=\"+Year+\"&month=\"+Month+\"&date=\"+Date\n",
        "\n",
        "    # pass the url\n",
        "    # into getdata function\n",
        "    htmldata = getdata(url)\n",
        "    soup = BeautifulSoup(htmldata, 'html.parser')\n",
        "    return(soup)\n",
        "\n",
        "# Get Flight number\n",
        "# from Html code\n",
        "\n",
        "\n",
        "def flight_no(soup):\n",
        "    Flight_no = \"\"\n",
        "\n",
        "    # Find div tag with\n",
        "    # unique class name\n",
        "    for i in soup.find(\"div\", class_=\"ticket__FlightNumberContainer-sc-1rrbl5o-4 exbpMf\"):\n",
        "        Flight_no = Flight_no + (i.get_text()) + \" \"\n",
        "    return Flight_no\n",
        "\n",
        "# Get Airport name\n",
        "# from HTML code\n",
        "\n",
        "\n",
        "def airport(soup):\n",
        "    Airport_name = []\n",
        "    # Find div tag with\n",
        "    # unique class name\n",
        "    for i in soup.find_all(class_='text-helper__TextHelper-sc-8bko4a-0 cHdMkI'):\n",
        "        Airport_name.append(i.get_text())\n",
        "    return Airport_name\n",
        "\n",
        "# get status\n",
        "# from HTML code\n",
        "\n",
        "\n",
        "def status(soup, flight_no):\n",
        "  for i in soup.find_all(\"script\"):\n",
        "    if '__NEXT_DATA__' in i.get_text():\n",
        "      result = i\n",
        "\n",
        "  data = json.loads(result.string.split('{\"props\":')[1].split(',\"page\":')[0])\n",
        "  status = data['initialState']['flightTracker']['flight']['status']\n",
        "  departure = data['initialState']['flightTracker']['flight']['departureAirport']\n",
        "  arrival = data['initialState']['flightTracker']['flight']['arrivalAirport']\n",
        "\n",
        "  flight_details = {\n",
        "    'flight': flight_no,\n",
        "    'status': (status['statusDescription'], status['delay']['departure']['minutes'], status['delay']['arrival']['minutes']),\n",
        "    'source': (departure['iata'], departure['name'], departure['gate'], departure['times']['scheduled']['time'], departure['times']['scheduled']['ampm'], departure['times']['estimatedActual']['time'], departure['times']['estimatedActual']['ampm']),\n",
        "    'destination': (arrival['iata'], arrival['name'], arrival['gate'], arrival['times']['scheduled']['time'], arrival['times']['scheduled']['ampm'], arrival['times']['estimatedActual']['time'], arrival['times']['estimatedActual']['ampm'])\n",
        "  }\n",
        "  return flight_details\n",
        ""
      ],
      "metadata": {
        "id": "96qKjVmcP_ua"
      },
      "execution_count": 281,
      "outputs": []
    },
    {
      "cell_type": "code",
      "source": [
        "# Driver code\n",
        "if __name__ == '__main__':\n",
        "    # Input Data from geek\n",
        "    Airline_code = 'AA'\n",
        "    Flight_number = '3'\n",
        "    Date = '26'\n",
        "    Month = '5'\n",
        "    Year = '2024'\n",
        "\n",
        "    # Calling the get_html\n",
        "    # with argument\n",
        "    # function calling\n",
        "    soup = get_html(Airline_code, Flight_number, Date, Month, Year)\n",
        "    flight_num = flight_no(soup)\n",
        "    print(\"Flight number : \", )\n",
        "    Airport_list = airport(soup)\n",
        "    result = status(soup, flight_num)\n",
        "    print(result)"
      ],
      "metadata": {
        "colab": {
          "base_uri": "https://localhost:8080/"
        },
        "id": "fewqz6KsQm_v",
        "outputId": "05dbb13f-d96d-4680-a2fc-9505238d989b"
      },
      "execution_count": 284,
      "outputs": [
        {
          "output_type": "stream",
          "name": "stdout",
          "text": [
            "Flight number : \n",
            "{'flight': 'AA 3 American Airlines ', 'status': ('On time', 0, 0), 'source': ('JFK', 'John F. Kennedy International Airport', '1', '11:00', 'AM', '10:56', 'AM'), 'destination': ('LAX', 'Los Angeles International Airport', '47A', '2:08', 'PM', '2:05', 'PM')}\n"
          ]
        }
      ]
    },
    {
      "cell_type": "code",
      "source": [],
      "metadata": {
        "id": "6eInU5CYTNHq"
      },
      "execution_count": null,
      "outputs": []
    }
  ]
}